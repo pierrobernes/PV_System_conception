{
  "nbformat": 4,
  "nbformat_minor": 0,
  "metadata": {
    "colab": {
      "provenance": [],
      "authorship_tag": "ABX9TyNt7GQdzUz3u6r1206jK8el",
      "include_colab_link": true
    },
    "kernelspec": {
      "name": "python3",
      "display_name": "Python 3"
    },
    "language_info": {
      "name": "python"
    }
  },
  "cells": [
    {
      "cell_type": "markdown",
      "metadata": {
        "id": "view-in-github",
        "colab_type": "text"
      },
      "source": [
        "<a href=\"https://colab.research.google.com/github/pierrobernes/PV_System_conception/blob/main/Conception_PV.ipynb\" target=\"_parent\"><img src=\"https://colab.research.google.com/assets/colab-badge.svg\" alt=\"Open In Colab\"/></a>"
      ]
    },
    {
      "cell_type": "code",
      "execution_count": 26,
      "metadata": {
        "id": "8I5NE8QML7d8"
      },
      "outputs": [],
      "source": [
        "# A CONFIGURER PAR INSTALLATION\n",
        "#--------------------------------\n",
        "# Installation details\n",
        "customer_annual_consumption = 5000 #kwh\n",
        "roof_inclination = [35,35]\n",
        "roof_orientation = [\"Ouest\", \"Est\"]\n",
        "surface_repartition = [0.5,0.5]\n",
        "panel_repartition = [7,7] #Panel repartition on the roof\n",
        "n_panels_installed = [7,7] #String configuration\n",
        "dc_line_length = [10,10]\n",
        "ac_line_length = 5\n",
        "selected_config_text = \"Etant donné l'orientation des versants de toiture en EST-OUEST, une configuration de 7 panneaux sur chaque versant est retenue.  Les panneaux de chaque versant seront raccordés ensemble sur un string respectif ce qui est compatible avec l'onduleur (cfr. section précédente)\"\n",
        "\n",
        "# PV panels configuration\n",
        "pv_panel_brand = \"Hyundai\"\n",
        "pv_max_power = 435\n",
        "pv_panel_model = f\"HiT-H{pv_max_power}MF-FB\"\n",
        "pv_width = 1.134 #m\n",
        "pv_length = 1.722 #m\n",
        "\n",
        "#PV STC values\n",
        "pv_v_oc_stc = 42.18\n",
        "pv_i_sc_stc = 13.10\n",
        "pv_v_mpp_stc = 35.38\n",
        "pv_i_mpp_stc = 12.58\n",
        "pv_ct = -0.24 #(% V_oc/deg)\n",
        "pv_module_efficiency = 0.2279\n",
        "\n",
        "#PV NOCT values\n",
        "pv_v_oc_noct = 40.26\n",
        "pv_i_sc_noct = 10.56\n",
        "pv_v_mpp_noct = 33.34\n",
        "pv_i_mpp_noct = 10.14\n",
        "\n",
        "#Inverter features\n",
        "inverter_brand = \"Huawei\"\n",
        "inverter_type = \"Sun2000-4KTL-M1 (Haute intensité)\"\n",
        "\n",
        "inverter={\n",
        "    \"max_p_dc\": {\"value\": 6000, \"alias\": \"Puissance PV Max (W)\"},\n",
        "    \"max_v_dc_off\": {\"value\": 1100, \"alias\": \"Tension d'entrée maximum (V)\"},\n",
        "    \"min_v_dc_run\": {\"value\": 140, \"alias\": \"Plage de tension de fonctionnement - Min (V)\"},\n",
        "    \"max_v_dc_run\": {\"value\": 980, \"alias\": \"Plage de tension de fonctionnement - Max (V)\"},\n",
        "    \"min_startup_v_dc\": {\"value\": 200, \"alias\": \"Tension minimum de démarrage (V)\"},\n",
        "    \"nominal_v_dc\": {\"value\": 600, \"alias\": \"Tension nominale de fonctionnement (V)\"},\n",
        "    \"max_i_dc_mpp_mppt\": {\"value\": 13.5, \"alias\": \"Courant maximum par MPPT au MPP(A)\"},\n",
        "    \"max_i_dc_sc_mppt\": {\"value\": 19.5, \"alias\": \"Courant maximum par MPPT en court-circuit(A)\"},\n",
        "    \"ac_output_type\": {\"value\": \"3N400\", \"alias\": \"Type de sortie AC \"}, #MONO, 3N400, 3X230\n",
        "    \"max_i_ac\": {\"value\": 6.8, \"alias\": \"Courant de sortie maximum (A)\"},\n",
        "    \"efficiency\": {\"value\": 0.975, \"alias\": \"Rendement énergétique\"},\n",
        "    \"mppt\": {\"value\": 2, \"alias\": \"Nombre de MPPT\"},\n",
        "}"
      ]
    },
    {
      "cell_type": "code",
      "source": [
        "# DON'T TOUCH THIS UNLESS YOU KNOW WHAT YOU DO\n",
        "#----------------------------------------------\n",
        "\n",
        "# Tool Configs\n",
        "config_kwh_kwp = 1000\n",
        "max_allowed_v_dc = 750\n",
        "stc_temp = 25\n",
        "t_min = -10\n",
        "t_max = 70\n",
        "output_filename = \"pv_report.md\"\n",
        "max_loss = 0.02\n",
        "max_voltage_drop = 0.01\n",
        "r_dc_wire_4 = 5.09 #ohms/km\n",
        "r_dc_wire_6 = 3.39 #ohms/km\n",
        "r_ac_wire = 0.0169 #ohms*mm²/m\n",
        "l_panel_wires = 1.2 #m\n",
        "panel_spacing = 0.02 # m\n",
        "panel_wire_section = 4 #mm²\n",
        "WIRE_SECTION_LIST = [1.5, 2.5, 4, 6, 10, 16, 1000000]\n",
        "plug_efficiency = 0.98\n",
        "meter_efficiency = 0.98\n",
        "electric_install_efficiency = 0.98\n",
        "\n",
        "#Alias\n",
        "variable_aliases = {\n",
        "    \"pv_v_oc\": \"V<sub>oc</sub> (V)\",\n",
        "    \"pv_i_sc\": \"I<sub>sc</sub> (A)\",\n",
        "    \"pv_v_mpp\": \"V<sub>mpp</sub> (V)\",\n",
        "    \"pv_i_mpp\": \"I<sub>mpp</sub> (A)\"\n",
        "}\n",
        "\n",
        "# Dictionaries\n",
        "orientation_dict = {\n",
        "    \"est\": -90,\n",
        "    \"sud-est\": -45,\n",
        "    \"sud\": 0,\n",
        "    \"sud-ouest\": 45,\n",
        "    \"ouest\": 90\n",
        "}\n",
        "\n",
        "correction_factor = {\n",
        "    '-90,0': 0.88, '-90,15': 0.87, '-90,25': 0.85, '-90,35': 0.83, '-90,50': 0.77, '-90,70': 0.65, '-90,90': 0.50,\n",
        "    '-45,0': 0.88, '-45,15': 0.93, '-45,25': 0.95, '-45,35': 0.95, '-45,50': 0.92, '-45,70': 0.81, '-45,90': 0.64,\n",
        "    '0,0': 0.88, '0,15': 0.96, '0,25': 0.99, '0,35': 1.00, '0,50': 0.98, '0,70': 0.87, '0,90': 0.68,\n",
        "    '45,0': 0.88, '45,15': 0.93, '45,25': 0.95, '45,35': 0.95, '45,50': 0.92, '45,70': 0.91, '45,90': 0.64,\n",
        "    '90,0': 0.88, '90,15': 0.87, '90,25': 0.85, '90,35': 0.82, '90,50': 0.76, '90,70': 0.65, '90,90': 0.5,\n",
        "}\n",
        "\n",
        "grid_voltages = {\n",
        "    \"3N400\": 400,\n",
        "    \"3x230\": 230,\n",
        "    \"1N400\": 230,\n",
        "    \"2x230\": 230\n",
        "}"
      ],
      "metadata": {
        "id": "Ra1fpT0j8FOR"
      },
      "execution_count": 27,
      "outputs": []
    },
    {
      "cell_type": "code",
      "source": [
        "from IPython.display import Markdown, display\n",
        "import math\n",
        "import re\n",
        "import os\n",
        "import sys\n",
        "\n",
        "_markdown_file = None\n",
        "_markdown_filename = None\n",
        "\n",
        "def remove_file_if_exists(filename='pv_report_output.md'):\n",
        "  \"\"\"\n",
        "  Checks if a file exists and deletes it if it does.\n",
        "\n",
        "  Args:\n",
        "    filename (str): The full or relative path to the file to be deleted.\n",
        "                    Defaults to 'pv_report_output.md'.\n",
        "  \"\"\"\n",
        "  print(f\"Checking for the existence of file: '{filename}'\")\n",
        "\n",
        "  # os.path.exists() checks if a path (file or directory) exists\n",
        "  if os.path.exists(filename):\n",
        "    # Check if it's actually a file and not a directory (additional safety)\n",
        "    if os.path.isfile(filename):\n",
        "      try:\n",
        "        # os.remove() deletes the file\n",
        "        os.remove(filename)\n",
        "        print(f\"File '{filename}' existed and was successfully deleted.\")\n",
        "      except OSError as e:\n",
        "        # Handle potential errors during deletion (e.g., permissions)\n",
        "        print(f\"Error while trying to delete file '{filename}': {e}\", file=sys.stderr)\n",
        "      except Exception as e:\n",
        "        # Handle any other unexpected errors\n",
        "        print(f\"An unexpected error occurred during deletion: {e}\", file=sys.stderr)\n",
        "    else:\n",
        "      # The path exists but is not a file (it's a directory)\n",
        "      print(f\"Path '{filename}' exists but it is not a file. No file deletion action taken.\")\n",
        "  else:\n",
        "    # The file does not exist\n",
        "    print(f\"File '{filename}' does not exist. No deletion needed.\")\n",
        "\n",
        "def md_dis_wr(markdown_text, filename=\"pv_report.md\", append=True):\n",
        "    \"\"\"\n",
        "    Affiche du Markdown dans le notebook et l'ajoute à un fichier.\n",
        "\n",
        "    Args:\n",
        "        markdown_text (str): La chaîne de texte au format Markdown à afficher et à ajouter.\n",
        "        filename (str, optional): Le nom du fichier .md. Par défaut \"output.md\".\n",
        "        append (bool, optional): Indique si le texte doit être ajouté à la fin du fichier\n",
        "                                 (True) ou si le fichier doit être écrasé (False). Par défaut True.\n",
        "    \"\"\"\n",
        "    global _markdown_file\n",
        "    global _markdown_filename\n",
        "\n",
        "    display(Markdown(markdown_text))\n",
        "\n",
        "    mode = \"a\" if append else \"w\"\n",
        "\n",
        "    if _markdown_file is None or _markdown_filename != filename:\n",
        "        if _markdown_file is not None:\n",
        "            _markdown_file.close()\n",
        "        try:\n",
        "            _markdown_file = open(filename, mode, encoding=\"utf-8\")\n",
        "            _markdown_filename = filename\n",
        "        except Exception as e:\n",
        "            print(f\"Erreur lors de l'ouverture du fichier '{filename}': {e}\")\n",
        "            _markdown_file = None\n",
        "            _markdown_filename = None\n",
        "            return\n",
        "\n",
        "    if _markdown_file:\n",
        "        try:\n",
        "            _markdown_file.write(markdown_text + \"\\n\\n\")\n",
        "        except Exception as e:\n",
        "            print(f\"Erreur lors de l'écriture dans le fichier '{filename}': {e}\")\n",
        "\n",
        "def close_md_file():\n",
        "    \"\"\"\n",
        "    Ferme le fichier Markdown s'il est ouvert.\n",
        "    \"\"\"\n",
        "    global _markdown_file\n",
        "    if _markdown_file is not None:\n",
        "        _markdown_file.close()\n",
        "        _markdown_file = None\n",
        "        global _markdown_filename\n",
        "        _markdown_filename = None\n",
        "    else:\n",
        "        print(\"Aucun fichier Markdown n'était ouvert.\")\n",
        "\n",
        "def pv_markdown_table():\n",
        "    table = \"| Caractéristique | Valeur STC | Valeur NOCT |\\n\"\n",
        "    table += \"|---|---|---| \\n\"\n",
        "    for var_name in variable_aliases:\n",
        "      alias = variable_aliases[var_name]\n",
        "      table += f\"| {alias} | {globals()[f'{var_name}_stc']} | {globals()[f'{var_name}_noct']} |\\n\"\n",
        "\n",
        "    return table\n",
        "\n",
        "def create_roof_table_markdown(roof_inclination, roof_orientation, surface_repartition):\n",
        "\n",
        "    table = \"| Surface | Inclinaison (°)| Orientation | Repartition (%) |\\n\"\n",
        "    table += \"|---------|---------------|-------------|---------------|\\n\"\n",
        "\n",
        "    for i in range(len(roof_inclination)):\n",
        "        inclination = roof_inclination[i]\n",
        "        orientation = roof_orientation[i]\n",
        "        repartition = surface_repartition[i] * 100\n",
        "        table += f\"| {i+1}       | {inclination}          | {orientation}   | {repartition:.1f}        |\\n\"\n",
        "\n",
        "    return table\n",
        "\n",
        "def display_inverter_properties_markdown(inverter_data):\n",
        "    table = \"| Caractéristique                     | Valeur              |\\n\"\n",
        "    table += \"|-------------------------------------|---------------------|\\n\"\n",
        "\n",
        "    for key, details in inverter_data.items():\n",
        "        alias = details.get(\"alias\", key)\n",
        "        value = details.get(\"value\", \"N/A\")\n",
        "        table += f\"| {alias:<35} | {value:<20} |\\n\"\n",
        "\n",
        "    return table\n",
        "\n",
        "def get_correction_factor(orientation: str, inclination: int) -> float:\n",
        "\n",
        "    orientation_angle = orientation_dict.get(orientation.lower())\n",
        "    if orientation_angle is None:\n",
        "        return None\n",
        "\n",
        "    relevant_factors = {\n",
        "        int(k.split(',')[1]): v for k, v in correction_factor.items() if int(k.split(',')[0]) == orientation_angle\n",
        "    }\n",
        "\n",
        "    if not relevant_factors:\n",
        "        return None\n",
        "\n",
        "    inclinations = sorted(relevant_factors.keys())\n",
        "\n",
        "    if inclination in relevant_factors:\n",
        "        return relevant_factors[inclination]\n",
        "\n",
        "    if inclination < inclinations[0]:\n",
        "        return None\n",
        "    if inclination > inclinations[-1]:\n",
        "        return None\n",
        "\n",
        "    lower_inclination = max(i for i in inclinations if i < inclination)\n",
        "    upper_inclination = min(i for i in inclinations if i > inclination)\n",
        "\n",
        "    lower_factor = relevant_factors[lower_inclination]\n",
        "    upper_factor = relevant_factors[upper_inclination]\n",
        "\n",
        "    f_c = lower_factor + (\n",
        "        (upper_factor - lower_factor) * (inclination - lower_inclination) / (upper_inclination - lower_inclination)\n",
        "    )\n",
        "\n",
        "    formula = rf\"$$F_c = {lower_factor} + ({inclination}-{lower_inclination}) * \\frac{{ {upper_factor}-{lower_factor} }}{{{upper_inclination}-{lower_inclination}}} = {f_c}$$\"\n",
        "    md_dis_wr(\"Détermination du facteur de correction $F_c$ en fonction de l'orientation et l'inclinaison :\")\n",
        "    md_dis_wr(formula)\n",
        "\n",
        "    return f_c\n",
        "\n",
        "def get_production_needs(customer_annual_consumption: int, roof_inclination: list, roof_orientation: list, surface_repartition: list) -> list:\n",
        "\n",
        "  results = []\n",
        "  fcs = []\n",
        "  for i in range(len(roof_inclination)):\n",
        "    inclination = roof_inclination[i]\n",
        "    orientation = roof_orientation[i]\n",
        "    repartition = surface_repartition[i]\n",
        "\n",
        "    md_dis_wr(f\"#### Toiture {i+1}\")\n",
        "    md_dis_wr(f\"La surface de toiture a les caractéristiques suivantes :  <ul><li> Inclinaison {inclination}°, <li> Orientation {orientation}, <li> Répartition : {repartition*100}% de la production</ul>\")\n",
        "\n",
        "    f_c = get_correction_factor(orientation, inclination)\n",
        "    fcs.append(f_c)\n",
        "\n",
        "    production_needs = round((customer_annual_consumption * repartition) / (config_kwh_kwp * f_c), 2)\n",
        "\n",
        "    formula = rf\"$$ Puissance\\ crete = \\frac{{ {customer_annual_consumption}* {repartition} }} {{ {config_kwh_kwp} * {f_c}}} = {production_needs} (Kwc)$$\"\n",
        "    md_dis_wr(\"Estimation de la puissance crete nécessaire\")\n",
        "    md_dis_wr(formula)\n",
        "\n",
        "    results.append(production_needs)\n",
        "\n",
        "  return results,fcs\n",
        "\n",
        "def get_panel_number(peak_power, panel_max_power) -> int:\n",
        "  pv_number = peak_power / (panel_max_power/1000)\n",
        "  return math.ceil(pv_number)\n",
        "\n",
        "def get_voc_for_temp(v_oc: float, c_t: float, temp: float) -> float:\n",
        "  v_oc_temp = round(v_oc - (v_oc*(c_t/100)*(stc_temp-temp)),2)\n",
        "  md_dis_wr(rf\"$$V_{{oc({temp})}} = {v_oc} - ({v_oc}*{c_t}*({stc_temp}-{temp})) = {v_oc_temp}\\ (V)$$\")\n",
        "  return v_oc_temp\n",
        "\n",
        "def get_vmpp_for_temp(v_mpp: float, v_oc: float, c_t: float, temp: float) -> float:\n",
        "  v_mpp_temp = round(v_mpp - (v_oc*(c_t/100)*(stc_temp-temp)),2)\n",
        "  md_dis_wr(rf\"$$V_{{mpp({temp})}} = {v_mpp} - ({v_oc}*{c_t}*({stc_temp}-{temp})) = {v_mpp_temp}\\ (V)$$\")\n",
        "  return v_mpp_temp\n",
        "\n",
        "def render_table_panels(n_min: int, n_max: int) -> str:\n",
        "  header =    \"| Description                          | Valeur |\"\n",
        "  separator = \"|--------------------------------------|--------|\"\n",
        "  row_min =   f\"| Min. panneaux / string  | {n_min:<6} |\"\n",
        "  row_max =   f\"| Max. panneaux / string  | {n_max:<6} |\"\n",
        "  markdown_table_string = f\"{header}\\n{separator}\\n{row_min}\\n{row_max}\"\n",
        "  return markdown_table_string\n",
        "\n",
        "def render_current_panels() -> str:\n",
        "  header = \"| Courant panneaux                        | Norme | Compatibilité | Résultat |\"\n",
        "  separator = \"|:-------------------------------------|--------|----|----|\"\n",
        "  row_isc_stc =   f\"| $I_{{sc}}$  | STC | {pv_i_sc_stc} A <= {inverter['max_i_dc_sc_mppt']['value']} A ?| {'OK' if pv_i_sc_stc<inverter['max_i_dc_sc_mppt']['value'] else 'KO'}|\"\n",
        "  row_impp_stc =   f\"| $I_{{mpp}}$ | STC| {pv_i_mpp_stc} A <= {inverter['max_i_dc_mpp_mppt']['value']} A ?| {'OK' if pv_i_mpp_stc<inverter['max_i_dc_mpp_mppt']['value'] else 'KO'}|\"\n",
        "  row_isc_noct =   f\"| $$I_{{sc}}$$  | NOCT | {pv_i_sc_noct} A <= {inverter['max_i_dc_sc_mppt']['value']} A ? | {'OK' if pv_i_sc_noct<inverter['max_i_dc_sc_mppt']['value'] else 'KO'}|\"\n",
        "  row_impp_noct =   f\"| $$I_{{mpp}}$$ | NOCT| {pv_i_mpp_noct} A <= {inverter['max_i_dc_mpp_mppt']['value']} A ?| {'OK' if pv_i_mpp_noct<inverter['max_i_dc_mpp_mppt']['value'] else 'KO'}|\"\n",
        "  markdown_table_string = f\"{header}\\n{separator}\\n{row_isc_stc}\\n{row_impp_stc}\\n{row_isc_noct}\\n{row_impp_noct}\"\n",
        "  return markdown_table_string\n",
        "\n",
        "def compute_and_render_string_length(dc_line_length : list, n_panels_string : list, s : int) :\n",
        "  table =    \"|String| Cable                       | Méthode | Longueur| Section|\\n\"\n",
        "  table +=   \"|------|:----------------------------|:--------|---------:|-------:|\\n\"\n",
        "  l_tot_s = 0\n",
        "  l_tot_wire_panels = 0\n",
        "  for i in range(len(dc_line_length)) :\n",
        "    table += f\"|[{i+1}] | Longueur onduleur - string| $$ 2*{dc_line_length[i]} m $$ | {round(dc_line_length[i]*2,1)} m | {s} mm² |\\n\"\n",
        "    l_tot_s += round(dc_line_length[i]*2,1)\n",
        "    table +=f\"|[{i+1}] | Cables de panneaux| $$ {n_panels_string[i]} * {l_panel_wires} m * 2 $$ | {round(n_panels_string[i]*l_panel_wires*2,1)} m | {panel_wire_section} mm²|\\n\"\n",
        "    l_tot_wire_panels += round(n_panels_string[i]*l_panel_wires*2,1)\n",
        "    table +=f\"|[{i+1}] | Brin retour string| $$ ({n_panels_string[i]} * {pv_width + panel_spacing} m)- {panel_spacing} m $$ | {round((n_panels_string[i]*(pv_width + panel_spacing))-panel_spacing,1)} m | {s} mm²|\\n\"\n",
        "    l_tot_s += round((n_panels_string[i]*(pv_width + panel_spacing))-panel_spacing,1)\n",
        "\n",
        "  return table, l_tot_s, l_tot_wire_panels\n",
        "\n",
        "def find_first_greater_in_list( n,number_list = WIRE_SECTION_LIST) :\n",
        "\n",
        "    for item in number_list:\n",
        "        if item > n:\n",
        "            return item\n",
        "    return None\n",
        "\n",
        "def get_ac_max_section(max_loss, dc_loss, i_ac_max, l_ac, grid):\n",
        "  max_ac_loss = round(max_loss - dc_loss,2)\n",
        "  text = \"\\n\\n\" + f\"$$Pertes_{{AC\\ Max}} = Perte_{{Système\\ Max}} - Perte_{{DC\\ MAX}} = {max_loss} W - {dc_loss} W = {max_ac_loss} W$$\"\n",
        "\n",
        "  text += \"\\n\\n\" + rf\"La résistance maximale pour cette perte est obtenue par la formule suivante:\"\n",
        "  r_max = 0\n",
        "\n",
        "  if grid in(\"3N400\",\"3x230\"):\n",
        "    r_max =max_ac_loss/(3*(i_ac_max ** 2))\n",
        "    text += \"\\n\\n\" + rf\"$$Pertes_{{AC\\ Max}} = 3*R_{{Max\\ cable\\ AC}}*I_{{AC\\ Max}}^2 \\Rightarrow R_{{Max\\ cable\\ AC}} = \\frac{{Pertes_{{AC\\ Max}}}}{{3*I_{{AC\\ Max}}^2}} = \\frac{{{max_ac_loss}}}{{3*{inverter['max_i_ac']['value']}^2}} = {round(r_max,3)} \\Omega$$\"\n",
        "  else:\n",
        "    r_max = max_ac_loss/(2*(i_ac_max ** 2))\n",
        "    text += \"\\n\\n\" + rf\"$$Pertes_{{AC\\ Max}} = 2*R_{{Max\\ cable\\ AC}}*I_{{AC\\ Max}}^2 \\Rightarrow R_{{Max\\ cable\\ AC}} = \\frac{{Pertes_{{AC\\ Max}}}}{{2*I_{{AC\\ Max}}^2}} = \\frac{{{max_ac_loss}}}{{2*{inverter['max_i_ac']['value']}^2}} = {round(r_max,3)} \\Omega$$\"\n",
        "\n",
        "  text += \"\\n\\n\" + rf\"La section minimale du cable AC est alors obtenue par la loi de Pouillet (avec une résistivité pour le cable de cuivre établie à {r_ac_wire} $ \\frac{{\\Omega*mm^2}}{{m}}$ : \"\n",
        "\n",
        "  s_min_ac = r_ac_wire*l_ac/round(r_max,3)\n",
        "  text += \"\\n\\n\" + rf\"$$S_{{min}} = \\frac{{{r_ac_wire} * l_{{cable\\ ac}}}}{{ R_{{Max\\ cable\\ AC}}}} = \\frac{{{r_ac_wire} * {l_ac}}}{{{round(r_max,3)}}} = {round(s_min_ac,2)} mm^2 $$\"\n",
        "\n",
        "  wire_section = find_first_greater_in_list(s_min_ac)\n",
        "\n",
        "  text +=\"\\n\\n\" + rf\"**La section minimum du cable AC a utiliser pour limiter les pertes de ligne est donc de {wire_section}mm²**\"\n",
        "\n",
        "  return text, wire_section\n",
        "\n",
        "def get_ac_loss(i_ac_max, l_ac, wire_section, grid):\n",
        "  if grid in(\"3N400\",\"3x230\"):\n",
        "    ac_loss =3*(r_ac_wire*l_ac/wire_section)*(i_ac_max ** 2)\n",
        "  else:\n",
        "    ac_loss =2*(r_ac_wire*l_ac/wire_section)*(i_ac_max ** 2)\n",
        "  return round(ac_loss,1)\n",
        "\n",
        "def get_ac_section_for_voltage_drop(i_ac_max, l_ac, grid):\n",
        "  voltage_drop_value=round(max_voltage_drop*grid_voltages[grid],1)\n",
        "  s_min = 0\n",
        "  text = rf\"La chute de tension maximum se calcule comme suit (en négligeant l'impédance de ligne (section < 50mm²) selon le réseau ({grid}):)\"\n",
        "  if grid in(\"3N400\",\"3x230\"):\n",
        "    text += \"\\n\\n\" + rf\"$$Reseau\\ Tri\\ {grid} \\Rightarrow U_{{max}} = \\sqrt(3)*R*I_{{AC\\ Max}} = {max_voltage_drop*100}\\% * {grid_voltages[grid]} V = {voltage_drop_value} V$$\"\n",
        "    r_max = round(voltage_drop_value/(math.sqrt(3)*i_ac_max),4)\n",
        "    formula_r_max = rf\"$$R_{{max}}=\\frac{{ U_{{max}} }}{{I_{{AC\\ Max}}}} = \\frac{{{voltage_drop_value} V}}{{\\sqrt(3)*{i_ac_max} A}} = {r_max} \\Omega$$\"\n",
        "    s_min = round((r_ac_wire*3*l_ac)/r_max,2)\n",
        "    formula_s_min = rf\"$$S_{{min}}=\\frac{{\\rho * l_{{3\\ fils}}}}{{R_{{max}}}}=\\frac{{{r_ac_wire}*(3*{l_ac}) m}}{{{r_max} \\Omega}} = {s_min} mm²$$\"\n",
        "  else:\n",
        "    text += \"\\n\\n\" + rf\"$$Reseau\\ Tri\\ {grid} \\Rightarrow U_{{max}} = R*I_{{AC\\ Max}} = {max_voltage_drop*100}\\% * {grid_voltages[grid]} V = {voltage_drop_value} V$$\"\n",
        "    r_max = round(voltage_drop_value/(i_ac_max),4)\n",
        "    formula_r_max = rf\"$$R_{{max}}=\\frac{{ U_{{max}} }}{{I_{{AC\\ Max}}}} = \\frac{{{voltage_drop_value} V}}{{{i_ac_max} A}} = {r_max} \\Omega$$\"\n",
        "    s_min = round((r_ac_wire*2*l_ac)/r_max,2)\n",
        "    formula_s_min = rf\"$$S_{{min}}=\\frac{{\\rho * l_{{2\\ fils}}}}{{R_{{max}}}}=\\frac{{{r_ac_wire}*(2*{l_ac}) m}}{{{r_max} \\Omega}} = {s_min} mm²$$\"\n",
        "\n",
        "  text += \"\\n\\n\" + rf\"On recherche alors la résistance la résistance maximum du cable pour respecter cette chute de tension maximum :\"\n",
        "  text += \"\\n\\n\" + formula_r_max\n",
        "  text += \"\\n\\n\" + rf\"Sur base de cela il ne reste qu'à calculer la section de fil avec la loi de Pouillet : \"\n",
        "  text += \"\\n\\n\" + formula_s_min\n",
        "  wire_section = find_first_greater_in_list(s_min)\n",
        "  text +=\"\\n\\n\" + rf\"**La section minimum du cable AC a utiliser pour limiter les pertes de ligne est donc de {wire_section}mm²**\"\n",
        "\n",
        "  return text,wire_section\n",
        "\n",
        "def render_dc_wire_comptutation(table_wire_length_6,l_tot_6_6,l_tot_6_4,pv_i_mpp_stc):\n",
        "    md_dis_wr(table_wire_length_6)\n",
        "    md_dis_wr(rf\"La longueur totale de cable : \")\n",
        "    md_dis_wr(f\"<ul>\")\n",
        "    md_dis_wr(rf\"<li>en 6mm² : {l_tot_6_6}m\")\n",
        "    md_dis_wr(rf\"<li>en 4mm² : {l_tot_6_4}\")\n",
        "    md_dis_wr(f\"</ul>\")\n",
        "    dc_loss_6 = round((r_dc_wire_6*1e-3*l_tot_6_6+r_dc_wire_4*1e-3*l_tot_6_4)*pv_i_mpp_stc*pv_i_mpp_stc,1)\n",
        "    md_dis_wr(rf\"$$Pertes_{{DC}} = {round(r_dc_wire_6*1e-3,5)} Ohms/m * {l_tot_6_6} m * {pv_i_mpp_stc} A^2 + {round(r_dc_wire_4*1e-3,5)} Ohms/m * {l_tot_6_4} m * {pv_i_mpp_stc} A^2= {dc_loss_6} W$$\")\n",
        "    dc_loss = dc_loss_6\n",
        "    md_dis_wr(rf\"**La section de cable retenue pour les cables DC est : 6mm²**\")\n",
        "    return dc_loss\n",
        "\n",
        "def get_annual_production(panels, fcs):\n",
        "  prod =[]\n",
        "  for i in range(len(fcs)):\n",
        "    prod.append(round(panels[i] * (pv_max_power/1000) * fcs[i]*config_kwh_kwp,2))\n",
        "  return prod\n"
      ],
      "metadata": {
        "id": "6UpT4dppcEJb"
      },
      "execution_count": 28,
      "outputs": []
    },
    {
      "cell_type": "code",
      "source": [
        "import re\n",
        "import os\n",
        "import sys\n",
        "\n",
        "def transform_dollar_delimiters(input_filename='pv_report.md', output_filename='pv_report_output.md'):\n",
        "  \"\"\"\n",
        "  Lit un fichier, remplace les délimiteurs '$...$' par '$$...$$' SEULEMENT s'ils ne\n",
        "  sont pas déjà doubles, et écrit le résultat dans un autre fichier.\n",
        "\n",
        "  Args:\n",
        "    input_filename (str): Le chemin vers le fichier d'entrée.\n",
        "                            Par défaut 'pv_report.md'.\n",
        "    output_filename (str): Le chemin vers le fichier de sortie.\n",
        "                             Par défaut 'pv_report_output.md'.\n",
        "  \"\"\"\n",
        "\n",
        "  # Fonction de remplacement pour re.sub\n",
        "  # Elle reçoit un objet 'match' et décide quoi retourner.\n",
        "  def replacement_logic(match):\n",
        "    # match.group(1) correspond à la capture de (\\$\\$(.*?)\\$\\$)\n",
        "    # Si group(1) existe, c'est qu'on a trouvé $$...$$, il ne faut rien changer.\n",
        "    if match.group(1):\n",
        "      return match.group(0) # Retourne la correspondance entière ($$...$$) telle quelle\n",
        "\n",
        "    # Sinon, c'est que match.group(3) a fonctionné (\\$(.*?)\\$)\n",
        "    # match.group(4) contient le contenu *entre* les dollars simples.\n",
        "    else:\n",
        "      content = match.group(4)\n",
        "      # On retourne le contenu entouré de doubles dollars\n",
        "      return f\"$${content}$$\"\n",
        "\n",
        "  # Regex combinée :\n",
        "  # 1. (\\$\\$(.*?)\\$\\$) : Capture les blocs $$...$$ dans le groupe 1 (et leur contenu dans le groupe 2)\n",
        "  # 2. | : OU\n",
        "  # 3. (\\$(.*?)\\$) : Capture les blocs $...$ dans le groupe 3 (et leur contenu dans le groupe 4)\n",
        "  # L'ordre est important : on essaie de matcher d'abord $$...$$ pour pouvoir l'ignorer.\n",
        "  regex_combined = r\"(\\$\\$(.*?)\\$\\$)|(\\$(.*?)\\$)\"\n",
        "\n",
        "  # --- Début du traitement --- (Messages en français)\n",
        "  print(f\"--- Début du traitement ---\")\n",
        "  print(f\"Fichier d'entrée : {input_filename}\")\n",
        "  print(f\"Fichier de sortie : {output_filename}\")\n",
        "\n",
        "  try:\n",
        "    # Lire le contenu du fichier d'entrée\n",
        "    print(f\"Lecture du fichier '{input_filename}'...\")\n",
        "    with open(input_filename, 'r', encoding='utf-8') as infile:\n",
        "      original_content = infile.read()\n",
        "    print(\"Lecture terminée.\")\n",
        "\n",
        "    # Exécuter le remplacement en utilisant la fonction de logique\n",
        "    print(\"Exécution des remplacements conditionnels...\")\n",
        "    modified_content = re.sub(regex_combined, replacement_logic, original_content)\n",
        "\n",
        "    # Vérifier si des modifications ont été faites\n",
        "    if original_content == modified_content:\n",
        "        print(\"Aucune modification pertinente détectée.\")\n",
        "    else:\n",
        "        print(\"Remplacements effectués.\")\n",
        "\n",
        "    # Écrire le contenu modifié dans le fichier de sortie\n",
        "    print(f\"Écriture dans le fichier '{output_filename}'...\")\n",
        "    with open(output_filename, 'w', encoding='utf-8') as outfile:\n",
        "      outfile.write(modified_content)\n",
        "    print(\"Écriture terminée.\")\n",
        "\n",
        "  except FileNotFoundError:\n",
        "    print(f\"Erreur : Le fichier d'entrée '{input_filename}' n'a pas été trouvé.\")\n",
        "    print(\"Traitement annulé.\")\n",
        "  except IOError as e:\n",
        "    print(f\"Erreur d'entrée/sortie lors de l'accès aux fichiers : {e}\")\n",
        "    print(\"Traitement annulé.\")\n",
        "  except Exception as e:\n",
        "    print(f\"Une erreur inattendue est survenue : {e}\")\n",
        "    print(\"Traitement annulé.\")\n",
        "\n",
        "  print(f\"--- Fin du traitement ---\")\n",
        "\n",
        "\n"
      ],
      "metadata": {
        "id": "Q1zPjXTyV-VS"
      },
      "execution_count": 29,
      "outputs": []
    },
    {
      "cell_type": "code",
      "source": [
        "remove_file_if_exists(filename='pv_report_output.md')\n",
        "transform_dollar_delimiters(input_filename='pv_report.md', output_filename='pv_report_output.md')"
      ],
      "metadata": {
        "colab": {
          "base_uri": "https://localhost:8080/"
        },
        "id": "aDYFWlZqXqOA",
        "outputId": "54d36d31-526f-4d9b-813a-6cd2c0d7e4b5"
      },
      "execution_count": 30,
      "outputs": [
        {
          "output_type": "stream",
          "name": "stdout",
          "text": [
            "Checking for the existence of file: 'pv_report_output.md'\n",
            "File 'pv_report_output.md' does not exist. No deletion needed.\n",
            "--- Début du traitement ---\n",
            "Fichier d'entrée : pv_report.md\n",
            "Fichier de sortie : pv_report_output.md\n",
            "Lecture du fichier 'pv_report.md'...\n",
            "Lecture terminée.\n",
            "Exécution des remplacements conditionnels...\n",
            "Remplacements effectués.\n",
            "Écriture dans le fichier 'pv_report_output.md'...\n",
            "Écriture terminée.\n",
            "--- Fin du traitement ---\n"
          ]
        }
      ]
    },
    {
      "cell_type": "code",
      "source": [
        "# @title Default title text\n",
        "import math\n",
        "\n",
        "remove_file_if_exists(filename='pv_report.md')\n",
        "remove_file_if_exists(filename='pv_report_output.md')\n",
        "\n",
        "md_dis_wr(\"# 1. Description de l'installation\")\n",
        "\n",
        "md_dis_wr(f\"Le client projette une consommation de {customer_annual_consumption} Kwh.\")\n",
        "\n",
        "\n",
        "md_dis_wr(\n",
        "    f\"Les surfaces de toiture exploitables sont les suivantes : \\\n",
        "    \"\n",
        ")\n",
        "\n",
        "md_dis_wr(create_roof_table_markdown(roof_inclination, roof_orientation, surface_repartition))\n",
        "\n",
        "md_dis_wr(\"# 2. Estimation de la puissance crete nécessaire\")\n",
        "md_dis_wr(f\"La puissance crete nécessaire est estimée sur base de :\")\n",
        "md_dis_wr(f\"<ul>\")\n",
        "md_dis_wr(f\"<li>la consommation annuelle\")\n",
        "md_dis_wr(f\"<li>une production forfaitaire de 1000Kwh par Kwc de panneaux\")\n",
        "md_dis_wr(f\"<li>un facteur correctif $F_c$ fonction de l'inclinaison et de l'orientation\")\n",
        "md_dis_wr(f\"Afin de tenir compte de toitures d'orientation différentes, un facteur de répartition $F_r$ pondère le calcul par orientation\")\n",
        "md_dis_wr(f\"</ul>\")\n",
        "\n",
        "md_dis_wr(rf\"$$ Puissance\\ crete\\ par\\ orientation= \\frac{{Consommation\\ annuelle * F_r}}{{1000 * F_c}} $$\")\n",
        "\n",
        "md_dis_wr(\"## 2.1 Calcul\")\n",
        "\n",
        "production_needs,fcs = get_production_needs(customer_annual_consumption, roof_inclination, roof_orientation, surface_repartition)\n",
        "total_production_needs = round(sum(production_needs),2)\n",
        "\n",
        "md_dis_wr(f\"**La puissance crete totale requise est de {total_production_needs} Kwc**\")\n",
        "\n",
        "md_dis_wr(\"## 2.2 Détermination du nombre de panneaux nécessaires\")\n",
        "\n",
        "md_dis_wr(f\"Les panneaux utilisés sont de marque **{pv_panel_brand}** et série **{pv_panel_model}**.\")\n",
        "md_dis_wr(f\"Leur puissance crete maximale est de {pv_max_power} W.  Le nombre de panneaux peut donc être calculé comme suit : \")\n",
        "panel_number = get_panel_number(total_production_needs, pv_max_power)\n",
        "md_dis_wr(rf\"$$ Puissance\\ crete = \\frac{{{total_production_needs * 1000}\\ (W)}}{{{pv_max_power}\\ (W)}} = {panel_number}\\ (arrondi\\ superieur)$$\")\n",
        "\n",
        "pv_total_peak_power = panel_number * pv_max_power\n",
        "md_dis_wr(f\"**Le nombre de panneaux nécessaires est de {panel_number}**; ce qui permettra de délivrer une puissance crete cumulée de **{pv_total_peak_power /1000} Kwc.**\")\n",
        "\n",
        "md_dis_wr(\"# 3. Analyse de compatibilité avec le matériel utilisé\")\n",
        "md_dis_wr(\"## 3.1 Description du matériel\")\n",
        "md_dis_wr(\"### 3.1.1 Panneaux\")\n",
        "\n",
        "md_dis_wr(f\"Les panneaux utilisés sont de marque **{pv_panel_brand}** et série **{pv_panel_model}**.\\\n",
        " Leurs caractéristiques sont reprises dans la table ci-dessous : \")\n",
        "md_dis_wr(pv_markdown_table())\n",
        "md_dis_wr(f\"Coefficient de température V<sub>oc</sub>: **{pv_ct}** %/°C\")\n",
        "\n",
        "md_dis_wr(\"### 3.1.2 Onduleur\")\n",
        "\n",
        "md_dis_wr(f\"L'onduleur utilisé est de marque **{inverter_brand}** et de série **{inverter_type}**.\\\n",
        " Ses caractéristiques sont reprises dans la table ci-dessous : \")\n",
        "inverter_table = display_inverter_properties_markdown(inverter)\n",
        "md_dis_wr(inverter_table)\n",
        "\n",
        "md_dis_wr(\"## 3.2 Calculs\")\n",
        "md_dis_wr(\"### 3.2.1 Compatibilité en tension\")\n",
        "md_dis_wr(f\"Les tensions dans les conditions de température au niveau de la cellule les plus défavorables pour l'onduleur sont considérées :\")\n",
        "md_dis_wr(f\"<ul>\")\n",
        "md_dis_wr(f\"<li> par temps froid (cellule PV à {t_min}°C) - la tension augmente sur les cellules; la somme de ces tensions sur le string pourrait dépasser les tolérances de l'onduleur\")\n",
        "md_dis_wr(f\"<li> par temps chaud (cellule PV à {t_max}°C) - la tension diminue sur les cellules et la limite basse de démarrage de l'onduleur pourrait ne pas être atteinte\")\n",
        "md_dis_wr(f\"</ul>\")\n",
        "\n",
        "md_dis_wr(f\"En effet, les tensions renseignées par la norme STC sont faites à température de cellule de {stc_temp}°C.\")\n",
        "md_dis_wr(r\"Le coefficient de variation de la tension à vide $V_{{oc}}$ appelé ci-après $C_t$ est utilisé dans les formules ci-dessous pour déterminer les tensions à vide au niveau de température de cellule souhaité: \")\n",
        "\n",
        "md_dis_wr(rf\"$$V_{{oc(temp)}} = V_{{oc}} - (V_{{oc}}*C_t*({stc_temp}-temp))$$\")\n",
        "\n",
        "md_dis_wr(rf\"Par température de cellule de {t_min}°C, le $V_{{oc}}$ devient : \")\n",
        "v_oc_t_min = get_voc_for_temp(pv_v_oc_stc, pv_ct, t_min)\n",
        "\n",
        "md_dis_wr(rf\"A cette température, le $V_{{mpp}}$ devient :  \")\n",
        "v_mpp_t_min = get_vmpp_for_temp(pv_v_mpp_stc, pv_v_oc_stc, pv_ct, t_min)\n",
        "\n",
        "md_dis_wr(rf\"Tandis que par température de cellule de {t_max}°C, le $V_{{oc}}$ devient : \")\n",
        "v_oc_t_max = get_voc_for_temp(pv_v_oc_stc, pv_ct, t_max)\n",
        "\n",
        "md_dis_wr(rf\"Grâce à ces valeurs, on peut déterminer le nombre maximum de panneau par string :\")\n",
        "\n",
        "max_p_per_string = round(inverter['max_v_dc_off']['value'] / v_oc_t_min, 2)\n",
        "md_dis_wr(rf\"$$\\frac{{DC_{{max\\ onduleur\\ a\\ vide}}}}{{V_{{oc(-10)}}}} = \\frac{{{inverter['max_v_dc_off']['value']}\\ (V)}} {{{v_oc_t_min}\\ (V)}} = {max_p_per_string} \\Rightarrow Max.\\ {math.floor(max_p_per_string)}\\ Panneaux\\ par\\ string$$\")\n",
        "if inverter['max_v_dc_off']['value'] >= max_allowed_v_dc:\n",
        "  md_dis_wr(rf\"**Attention** cependant car la tension max. admissible à vide de l'onduleur ({inverter['max_v_dc_off']['value']} V) est supérieure à la tension admissible sur toiture résidentielle ({max_allowed_v_dc} V).\")\n",
        "  md_dis_wr(rf\"Le nombre de panneaux maximum à vide doit donc être revu sur base de cette tension : \")\n",
        "  max_p_per_string = round(max_allowed_v_dc / v_oc_t_min, 2)\n",
        "  md_dis_wr(rf\"$$\\frac{{Tension\\ Max\\ sur\\ toiture}}{{V_{{oc(-10)}}}} = \\frac{{{max_allowed_v_dc}\\ (V)}} {{{v_oc_t_min}\\ (V)}} = {max_p_per_string} \\Rightarrow Max.\\ {math.floor(max_p_per_string)}\\ Panneaux\\ par\\ string$$\")\n",
        "\n",
        "md_dis_wr(rf\"Pour garantir le démarrage de l'onduleur par temps chaud, le nombre minimum de panneaux est de :\")\n",
        "\n",
        "min_p_per_string = round(inverter['min_v_dc_run']['value'] / v_oc_t_max, 2)\n",
        "md_dis_wr(rf\"$$\\frac{{DC_{{min\\ démarrage\\ onduleur}}}}{{V_{{oc(70)}}}} = \\frac{{{inverter['min_v_dc_run']['value']}\\ (V)}} {{{v_oc_t_max}\\ (V)}} = {min_p_per_string} \\Rightarrow Min.\\ {math.ceil(min_p_per_string)}\\ Panneaux\\ par\\ string$$\")\n",
        "\n",
        "md_dis_wr(rf\"En fonctionnement par temps froid, le nombre de panneaux par string ne pourra pas dépasser :\")\n",
        "\n",
        "if inverter['max_v_dc_off']['value'] >= max_allowed_v_dc:\n",
        "  max_p_per_string_run = round(max_allowed_v_dc / v_mpp_t_min, 2)\n",
        "  md_dis_wr(rf\"$$\\frac{{Tension\\ Max\\ sur\\ toiture}}{{V_{{mpp(-10)}}}} = \\frac{{{max_allowed_v_dc}\\ (V)}} {{{v_mpp_t_min}\\ (V)}} = {max_p_per_string_run} \\Rightarrow Max.\\ {math.floor(max_p_per_string_run)}\\ Panneaux\\ par\\ string$$\")\n",
        "else:\n",
        "  max_p_per_string_run = round(inverter['max_v_dc_run']['value'] / v_mpp_t_min, 2)\n",
        "  md_dis_wr(rf\"$$\\frac{{DC_{{max\\ onduleur\\ run}}}}{{V_{{mpp(-10)}}}} = \\frac{{{inverter['max_v_dc_run']['value']}\\ (V)}} {{{v_mpp_t_min}\\ (V)}} = {max_p_per_string_run} \\Rightarrow Max.\\ {math.floor(max_p_per_string_run)}\\ Panneaux\\ par\\ string$$\")\n",
        "\n",
        "md_dis_wr(\"#### Conclusions\")\n",
        "n_p_max = min([math.floor(max_p_per_string), math.floor(max_p_per_string_run)])\n",
        "n_p_min = math.ceil(min_p_per_string)\n",
        "dc_power_max = n_p_max * pv_max_power\n",
        "md_dis_wr(render_table_panels(n_p_min, n_p_max))\n",
        "\n",
        "if (dc_power_max > inverter['max_p_dc']['value']):\n",
        "  md_dis_wr(rf\"La puissance DC maximum recommandée (sans optimiseur) est donnée par le fabricant à {inverter['max_p_dc']['value']} W.  Mettre {n_p_max} panneaux produirait {dc_power_max} W.  Idéalement il faudrait se limiter à {math.floor(inverter['max_p_dc']['value']/pv_max_power)} - {math.ceil(inverter['max_p_dc']['value']/pv_max_power)} panneaux tous strings confondus.\")\n",
        "  # md_dis_wr(f\"{dc_power_max}\")\n",
        "\n",
        "md_dis_wr(\"### 3.2.2 Compatibilité en courant\")\n",
        "\n",
        "md_dis_wr(rf\"Les panneaux dans les strings étant tous raccordés en série, le courant maximum DC produit sera de \")\n",
        "md_dis_wr(render_current_panels())\n",
        "\n",
        "md_dis_wr(\"### 3.3 Optimisation\")\n",
        "\n",
        "md_dis_wr(rf\"L'onduleur fonctionnera de manière optimum avec une tension d'entrée de {inverter['nominal_v_dc']['value']} V.\")\n",
        "md_dis_wr(rf\"Dans les conditions NOCT, l'onduleur fournira une tension $V_{{mpp}}$ de {pv_v_mpp_noct} V; le nombre optimum de panneaux par string est dès lors de :\")\n",
        "n_p_optim = round(inverter['nominal_v_dc']['value']/pv_v_mpp_noct,0)\n",
        "md_dis_wr(rf\"$$Optimum = \\frac{{{inverter['nominal_v_dc']['value']} (V)}}{{{pv_v_mpp_noct} (V)}} = {n_p_optim}\\ Panneaux$$\")\n",
        "if (n_p_optim > n_p_max):\n",
        "  md_dis_wr(rf\"Ce nombre étant supérieur au nombre maximum de panneaux par string calculé précédemment, nous ne retiendrons pas cette valeur **(maximum {n_p_max} panneaux)**.\")\n",
        "\n",
        "md_dis_wr(\"# 4. Configuration retenue\")\n",
        "\n",
        "md_dis_wr(selected_config_text)\n",
        "\n",
        "md_dis_wr(\"# 5. Production estimée\")\n",
        "prod=get_annual_production(panel_repartition,fcs)\n",
        "annual_prod = sum(prod)\n",
        "md_dis_wr(f\"La production annuelle estimée avec une installation de {panel_number} panneaux ({pv_total_peak_power /1000} Kwc.) est de **{annual_prod} Kwh** calculé comme suit :\")\n",
        "\n",
        "for i in range(len(roof_inclination)):\n",
        "  md_dis_wr(rf\"Toiture {i+1} - Orientation {roof_orientation[i]}:\")\n",
        "  md_dis_wr(rf\"$$ Production\\ annuelle = {panel_repartition[i]} * {pv_max_power/1000} (kW) * {config_kwh_kwp} * F_c= {panel_repartition[i] * (pv_max_power/1000) * config_kwh_kwp} * {fcs[i]}= {prod[i]} (Kwh)$$\")\n",
        "\n",
        "md_dis_wr(\"# 6. Détermination des sections de cables\")\n",
        "\n",
        "md_dis_wr(rf\"La section des cables est déterminée par la perte maximum de {max_loss*100}%  autorisée pour l'installation : \")\n",
        "p_max_installation = sum(n_panels_installed) * pv_max_power\n",
        "max_loss_w = p_max_installation * max_loss\n",
        "md_dis_wr(rf\"$$Perte\\ max = {sum(n_panels_installed)} * {pv_max_power} * {max_loss*100}\\% = {max_loss_w} W$$\")\n",
        "md_dis_wr(rf\"Ces pertes maximum seront constitutées des pertes sur les lignes DC et sur les lignes AC.  La section adéquate de cable sur chaque ligne sera déterminée pour entrer dans la tolérance des {max_loss*100}% \")\n",
        "md_dis_wr(rf\"Enfin spécifiquement pour la ligne AC, la chute de tension maximum de {max_voltage_drop*100}% devra être respectée.\")\n",
        "\n",
        "md_dis_wr(\"## 6.1 Ligne DC\")\n",
        "\n",
        "md_dis_wr(rf\"La section des cables DC sera fonction des pertes de ligne DC calculées comme suit:\")\n",
        "md_dis_wr(rf\"$$Pertes_{{DC}} = R*I^2 = \\frac{{\\rho * l}}{{S}} * I^2$$\")\n",
        "md_dis_wr(rf\"Avec : \")\n",
        "md_dis_wr(f\"<ul>\")\n",
        "md_dis_wr(rf\"<li><em>R</em> la résistance électrique totale\")\n",
        "md_dis_wr(rf\"<li><em>I</em> l'intensité maximum traversant le cable soit le $I_{{mpp}}$ ({pv_i_mpp_stc} A)\")\n",
        "md_dis_wr(rf\"<li><em>S</em> la section du cable\")\n",
        "md_dis_wr(rf\"<li><em>l</em> sa longueur\")\n",
        "md_dis_wr(rf\"<li>$\\rho$ la résistivité du cable\")\n",
        "md_dis_wr(rf\"Les fabricants de cable DC expriment la résistance électrique de leur matériel par m et par section; ce qui équivaudra au $\\rho/S$ : \")\n",
        "md_dis_wr(rf\"<li><em>4 mm²</em> : {round(r_dc_wire_4*1e-3,5)} Ohms/m\")\n",
        "md_dis_wr(rf\"<li><em>6 mm²</em> : {round(r_dc_wire_6*1e-3,5)} Ohms/m\")\n",
        "md_dis_wr(f\"</ul>\")\n",
        "\n",
        "md_dis_wr(rf\"Afin de calculer la perte DC, il faut encore déterminer la longueur de cable DC; ce qui se fait en considérant : \")\n",
        "md_dis_wr(f\"<ul>\")\n",
        "md_dis_wr(rf\"<li>La distance onduleur et le string de panneaux\")\n",
        "md_dis_wr(rf\"<li>La longueur des brins de cables attachés à chaque panneau\")\n",
        "md_dis_wr(rf\"<li>La distance entre le premier et dernier panneau du string considérés posés en ligne (format portrait)\")\n",
        "md_dis_wr(f\"</ul>\")\n",
        "\n",
        "table_wire_length_4, l_tot_s, l_tot_wire_panels = compute_and_render_string_length(dc_line_length, n_panels_installed, 4)\n",
        "\n",
        "md_dis_wr(table_wire_length_4)\n",
        "\n",
        "l_tot_4 = round(l_tot_s+l_tot_wire_panels,1)\n",
        "dc_loss_4 = round(r_dc_wire_4*1e-3*l_tot_4*pv_i_mpp_stc*pv_i_mpp_stc,1)\n",
        "md_dis_wr(rf\"La longueur totale en 4mm² de cable est donc de : {l_tot_4}m.  La perte totale des cables DC de section 4mm² est alors de : \")\n",
        "md_dis_wr(rf\"$$Pertes_{{DC}} = {round(r_dc_wire_4*1e-3,5)} Ohms/m * {l_tot_4} m * {pv_i_mpp_stc} A^2 = {dc_loss_4} W$$\")\n",
        "\n",
        "table_wire_length_6, l_tot_s, l_tot_wire_panels = compute_and_render_string_length(dc_line_length, n_panels_installed, 6)\n",
        "l_tot_6_6= round(l_tot_s,1)\n",
        "l_tot_6_4= round(l_tot_wire_panels,1)\n",
        "\n",
        "if (dc_loss_4 > max_loss_w) :\n",
        "  md_dis_wr(rf\"Les pertes DC surpassant les pertes maximum autorisées pour le système, il faut envisager des cables DC de section supérieure (6mm²).  Les longueurs de cables DC sont alors les suivantes : \")\n",
        "  dc_loss=render_dc_wire_comptutation(table_wire_length_6,l_tot_6_6,l_tot_6_4,pv_i_mpp_stc)\n",
        "else :\n",
        "  text_ac_4, ac_4_wire_section = get_ac_max_section(max_loss_w, dc_loss_4, inverter['max_i_ac']['value'], ac_line_length, inverter['ac_output_type']['value'])\n",
        "  if (ac_4_wire_section > 16) :\n",
        "    md_dis_wr(rf\"Les pertes DC sont trop grandes pour avoir des pertes AC permettant aux pertes systèmes de rester dans les tolérances. Il faut envisager des cables DC de section supérieure (6mm²).  Les longueurs de cables DC sont alors les suivantes : \")\n",
        "    dc_loss=render_dc_wire_comptutation(table_wire_length_6,l_tot_6_6,l_tot_6_4,pv_i_mpp_stc)\n",
        "  else :\n",
        "    dc_loss = dc_loss_4\n",
        "    md_dis_wr(rf\"**La section de cable retenue pour les cables DC est : 4mm²**\")\n",
        "\n",
        "md_dis_wr(\"## 6.2 Ligne AC\")\n",
        "md_dis_wr(\"### 6.2.1 Pertes de ligne\")\n",
        "md_dis_wr(rf\"Les pertes AC maximum sont déterminées par la différence entre les pertes totales système et les pertes DC\")\n",
        "text_ac, wire_section_ac_loss = get_ac_max_section(max_loss_w, dc_loss, inverter['max_i_ac']['value'], ac_line_length, inverter['ac_output_type']['value'])\n",
        "md_dis_wr(text_ac)\n",
        "\n",
        "md_dis_wr(\"### 6.2.2 Chute de tension \")\n",
        "\n",
        "text_v_drop, wire_section_v_drop= get_ac_section_for_voltage_drop(inverter['max_i_ac']['value'],ac_line_length, inverter['ac_output_type']['value'])\n",
        "md_dis_wr(text_v_drop)\n",
        "\n",
        "md_dis_wr(\"### 6.2.3 Sélection de la section de ligne AC\")\n",
        "\n",
        "ac_wire_section = max(wire_section_ac_loss, wire_section_v_drop )\n",
        "md_dis_wr(rf\"Considérant les pertes de ligne AC et la chute de tension calculées, la section de cable AC retenue est de **{ac_wire_section} mm²**\")\n",
        "\n",
        "md_dis_wr(\"# 7. Rendement\")\n",
        "md_dis_wr(\"## 7.1 Rendement des cables\")\n",
        "ac_loss = get_ac_loss(inverter['max_i_ac']['value'],ac_line_length, ac_wire_section, inverter['ac_output_type']['value'])\n",
        "total_loss = ac_loss + dc_loss\n",
        "md_dis_wr(rf\"Sur base des sections de cables retenues, on peut recalculer les pertes AC et DC :\")\n",
        "md_dis_wr(f\"<ul>\")\n",
        "md_dis_wr(rf\"<li>Pertes DC : {dc_loss} W\")\n",
        "md_dis_wr(rf\"<li>Pertes AC : {ac_loss} W\")\n",
        "md_dis_wr(f\"</ul>\")\n",
        "md_dis_wr(rf\"Les pertes totales s'élèvent alors à **{total_loss} W** ce qui est bien inférieur à la perte maximale autorisée de {max_loss_w} W \")\n",
        "md_dis_wr(rf\"Le rendement des cables peut se déterminer sur base de ces pertes et la puissance maximale de l'installation de panneaux ({p_max_installation} W) :\")\n",
        "wire_efficiency = 1-round(total_loss/p_max_installation,4)\n",
        "md_dis_wr(rf\"$$\\eta_{{cables}} = 1 - \\frac{{Pertes_{{cables}}}}{{P_{{installation}}}} = {wire_efficiency*100} \\%$$\")\n",
        "\n",
        "md_dis_wr(\"# 7.2 Rendement total\")\n",
        "md_dis_wr(rf\"Le rendement total de l'installation s'obtient en combinant le rendement de chacun des composants : \")\n",
        "md_dis_wr(f\"<ul>\")\n",
        "md_dis_wr(rf\"<li>Rendement des modules $\\eta_{{modules}}$: {pv_module_efficiency*100}% (datasheet panneaux)\")\n",
        "md_dis_wr(rf\"<li>Rendement onduleur $\\eta_{{onduleur}}$: {inverter['efficiency']['value']*100}% (datasheet onduleur)\")\n",
        "md_dis_wr(rf\"<li>Rendement des cables $\\eta_{{cables}}$: {wire_efficiency*100}% (calculé)\")\n",
        "md_dis_wr(rf\"<li>Rendement fiches MC4 $\\eta_{{fiches}}$: {plug_efficiency*100}% (estimé)\")\n",
        "md_dis_wr(rf\"<li>Rendement compteur vert $\\eta_{{compteur}}$: {meter_efficiency*100}% (estimé)\")\n",
        "md_dis_wr(rf\"<li>Rendement installation électrique $\\eta_{{installation\\ elec}}$: {electric_install_efficiency*100}% (estimé)\")\n",
        "md_dis_wr(f\"</ul>\")\n",
        "md_dis_wr(rf\"De la manière suivante : \")\n",
        "total_efficiency = round(pv_module_efficiency*inverter['efficiency']['value']*wire_efficiency*plug_efficiency*meter_efficiency*electric_install_efficiency,4)\n",
        "md_dis_wr(rf\"$$\\eta_{{total}} = \\eta_{{modules}} * \\eta_{{onduleur}} * \\eta_{{cables}} * \\eta_{{fiches}} * \\eta_{{compteur}} * \\eta_{{installation\\ elec}} = {round(total_efficiency*100,2)} \\%$$\")\n",
        "md_dis_wr(rf\"En d'autres termes, considérant une irradiance de 1000W/m², les panneaux récupéreront {round(1000*pv_module_efficiency,2)} W et le système permettra de réinjecter la puissance de {1000*total_efficiency}W.\")\n",
        "md_dis_wr(rf\"Cela représente donc une perte de {round(((pv_module_efficiency/total_efficiency)-1),2)*100} \\%.\")\n",
        "\n",
        "close_md_file()"
      ],
      "metadata": {
        "colab": {
          "base_uri": "https://localhost:8080/",
          "height": 1000
        },
        "id": "-h5yRplEv5I4",
        "outputId": "e6a9fe38-85ba-45f3-c73f-cb8b8b068e58"
      },
      "execution_count": 31,
      "outputs": [
        {
          "output_type": "stream",
          "name": "stdout",
          "text": [
            "Checking for the existence of file: 'pv_report.md'\n",
            "File 'pv_report.md' existed and was successfully deleted.\n",
            "Checking for the existence of file: 'pv_report_output.md'\n",
            "File 'pv_report_output.md' existed and was successfully deleted.\n"
          ]
        },
        {
          "output_type": "display_data",
          "data": {
            "text/plain": [
              "<IPython.core.display.Markdown object>"
            ],
            "text/markdown": "# 1. Description de l'installation"
          },
          "metadata": {}
        },
        {
          "output_type": "display_data",
          "data": {
            "text/plain": [
              "<IPython.core.display.Markdown object>"
            ],
            "text/markdown": "Le client projette une consommation de 5000 Kwh."
          },
          "metadata": {}
        },
        {
          "output_type": "display_data",
          "data": {
            "text/plain": [
              "<IPython.core.display.Markdown object>"
            ],
            "text/markdown": "Les surfaces de toiture exploitables sont les suivantes :     "
          },
          "metadata": {}
        },
        {
          "output_type": "display_data",
          "data": {
            "text/plain": [
              "<IPython.core.display.Markdown object>"
            ],
            "text/markdown": "| Surface | Inclinaison (°)| Orientation | Repartition (%) |\n|---------|---------------|-------------|---------------|\n| 1       | 35          | Ouest   | 50.0        |\n| 2       | 35          | Est   | 50.0        |\n"
          },
          "metadata": {}
        },
        {
          "output_type": "display_data",
          "data": {
            "text/plain": [
              "<IPython.core.display.Markdown object>"
            ],
            "text/markdown": "# 2. Estimation de la puissance crete nécessaire"
          },
          "metadata": {}
        },
        {
          "output_type": "display_data",
          "data": {
            "text/plain": [
              "<IPython.core.display.Markdown object>"
            ],
            "text/markdown": "La puissance crete nécessaire est estimée sur base de :"
          },
          "metadata": {}
        },
        {
          "output_type": "display_data",
          "data": {
            "text/plain": [
              "<IPython.core.display.Markdown object>"
            ],
            "text/markdown": "<ul>"
          },
          "metadata": {}
        },
        {
          "output_type": "display_data",
          "data": {
            "text/plain": [
              "<IPython.core.display.Markdown object>"
            ],
            "text/markdown": "<li>la consommation annuelle"
          },
          "metadata": {}
        },
        {
          "output_type": "display_data",
          "data": {
            "text/plain": [
              "<IPython.core.display.Markdown object>"
            ],
            "text/markdown": "<li>une production forfaitaire de 1000Kwh par Kwc de panneaux"
          },
          "metadata": {}
        },
        {
          "output_type": "display_data",
          "data": {
            "text/plain": [
              "<IPython.core.display.Markdown object>"
            ],
            "text/markdown": "<li>un facteur correctif $F_c$ fonction de l'inclinaison et de l'orientation"
          },
          "metadata": {}
        },
        {
          "output_type": "display_data",
          "data": {
            "text/plain": [
              "<IPython.core.display.Markdown object>"
            ],
            "text/markdown": "Afin de tenir compte de toitures d'orientation différentes, un facteur de répartition $F_r$ pondère le calcul par orientation"
          },
          "metadata": {}
        },
        {
          "output_type": "display_data",
          "data": {
            "text/plain": [
              "<IPython.core.display.Markdown object>"
            ],
            "text/markdown": "</ul>"
          },
          "metadata": {}
        },
        {
          "output_type": "display_data",
          "data": {
            "text/plain": [
              "<IPython.core.display.Markdown object>"
            ],
            "text/markdown": "$$ Puissance\\ crete\\ par\\ orientation= \\frac{Consommation\\ annuelle * F_r}{1000 * F_c} $$"
          },
          "metadata": {}
        },
        {
          "output_type": "display_data",
          "data": {
            "text/plain": [
              "<IPython.core.display.Markdown object>"
            ],
            "text/markdown": "## 2.1 Calcul"
          },
          "metadata": {}
        },
        {
          "output_type": "display_data",
          "data": {
            "text/plain": [
              "<IPython.core.display.Markdown object>"
            ],
            "text/markdown": "#### Toiture 1"
          },
          "metadata": {}
        },
        {
          "output_type": "display_data",
          "data": {
            "text/plain": [
              "<IPython.core.display.Markdown object>"
            ],
            "text/markdown": "La surface de toiture a les caractéristiques suivantes :  <ul><li> Inclinaison 35°, <li> Orientation Ouest, <li> Répartition : 50.0% de la production</ul>"
          },
          "metadata": {}
        },
        {
          "output_type": "display_data",
          "data": {
            "text/plain": [
              "<IPython.core.display.Markdown object>"
            ],
            "text/markdown": "Estimation de la puissance crete nécessaire"
          },
          "metadata": {}
        },
        {
          "output_type": "display_data",
          "data": {
            "text/plain": [
              "<IPython.core.display.Markdown object>"
            ],
            "text/markdown": "$$ Puissance\\ crete = \\frac{ 5000* 0.5 } { 1000 * 0.82} = 3.05 (Kwc)$$"
          },
          "metadata": {}
        },
        {
          "output_type": "display_data",
          "data": {
            "text/plain": [
              "<IPython.core.display.Markdown object>"
            ],
            "text/markdown": "#### Toiture 2"
          },
          "metadata": {}
        },
        {
          "output_type": "display_data",
          "data": {
            "text/plain": [
              "<IPython.core.display.Markdown object>"
            ],
            "text/markdown": "La surface de toiture a les caractéristiques suivantes :  <ul><li> Inclinaison 35°, <li> Orientation Est, <li> Répartition : 50.0% de la production</ul>"
          },
          "metadata": {}
        },
        {
          "output_type": "display_data",
          "data": {
            "text/plain": [
              "<IPython.core.display.Markdown object>"
            ],
            "text/markdown": "Estimation de la puissance crete nécessaire"
          },
          "metadata": {}
        },
        {
          "output_type": "display_data",
          "data": {
            "text/plain": [
              "<IPython.core.display.Markdown object>"
            ],
            "text/markdown": "$$ Puissance\\ crete = \\frac{ 5000* 0.5 } { 1000 * 0.83} = 3.01 (Kwc)$$"
          },
          "metadata": {}
        },
        {
          "output_type": "display_data",
          "data": {
            "text/plain": [
              "<IPython.core.display.Markdown object>"
            ],
            "text/markdown": "**La puissance crete totale requise est de 6.06 Kwc**"
          },
          "metadata": {}
        },
        {
          "output_type": "display_data",
          "data": {
            "text/plain": [
              "<IPython.core.display.Markdown object>"
            ],
            "text/markdown": "## 2.2 Détermination du nombre de panneaux nécessaires"
          },
          "metadata": {}
        },
        {
          "output_type": "display_data",
          "data": {
            "text/plain": [
              "<IPython.core.display.Markdown object>"
            ],
            "text/markdown": "Les panneaux utilisés sont de marque **Hyundai** et série **HiT-H435MF-FB**."
          },
          "metadata": {}
        },
        {
          "output_type": "display_data",
          "data": {
            "text/plain": [
              "<IPython.core.display.Markdown object>"
            ],
            "text/markdown": "Leur puissance crete maximale est de 435 W.  Le nombre de panneaux peut donc être calculé comme suit : "
          },
          "metadata": {}
        },
        {
          "output_type": "display_data",
          "data": {
            "text/plain": [
              "<IPython.core.display.Markdown object>"
            ],
            "text/markdown": "$$ Puissance\\ crete = \\frac{6060.0\\ (W)}{435\\ (W)} = 14\\ (arrondi\\ superieur)$$"
          },
          "metadata": {}
        },
        {
          "output_type": "display_data",
          "data": {
            "text/plain": [
              "<IPython.core.display.Markdown object>"
            ],
            "text/markdown": "**Le nombre de panneaux nécessaires est de 14**; ce qui permettra de délivrer une puissance crete cumulée de **6.09 Kwc.**"
          },
          "metadata": {}
        },
        {
          "output_type": "display_data",
          "data": {
            "text/plain": [
              "<IPython.core.display.Markdown object>"
            ],
            "text/markdown": "# 3. Analyse de compatibilité avec le matériel utilisé"
          },
          "metadata": {}
        },
        {
          "output_type": "display_data",
          "data": {
            "text/plain": [
              "<IPython.core.display.Markdown object>"
            ],
            "text/markdown": "## 3.1 Description du matériel"
          },
          "metadata": {}
        },
        {
          "output_type": "display_data",
          "data": {
            "text/plain": [
              "<IPython.core.display.Markdown object>"
            ],
            "text/markdown": "### 3.1.1 Panneaux"
          },
          "metadata": {}
        },
        {
          "output_type": "display_data",
          "data": {
            "text/plain": [
              "<IPython.core.display.Markdown object>"
            ],
            "text/markdown": "Les panneaux utilisés sont de marque **Hyundai** et série **HiT-H435MF-FB**. Leurs caractéristiques sont reprises dans la table ci-dessous : "
          },
          "metadata": {}
        },
        {
          "output_type": "display_data",
          "data": {
            "text/plain": [
              "<IPython.core.display.Markdown object>"
            ],
            "text/markdown": "| Caractéristique | Valeur STC | Valeur NOCT |\n|---|---|---| \n| V<sub>oc</sub> (V) | 42.18 | 40.26 |\n| I<sub>sc</sub> (A) | 13.1 | 10.56 |\n| V<sub>mpp</sub> (V) | 35.38 | 33.34 |\n| I<sub>mpp</sub> (A) | 12.58 | 10.14 |\n"
          },
          "metadata": {}
        },
        {
          "output_type": "display_data",
          "data": {
            "text/plain": [
              "<IPython.core.display.Markdown object>"
            ],
            "text/markdown": "Coefficient de température V<sub>oc</sub>: **-0.24** %/°C"
          },
          "metadata": {}
        },
        {
          "output_type": "display_data",
          "data": {
            "text/plain": [
              "<IPython.core.display.Markdown object>"
            ],
            "text/markdown": "### 3.1.2 Onduleur"
          },
          "metadata": {}
        },
        {
          "output_type": "display_data",
          "data": {
            "text/plain": [
              "<IPython.core.display.Markdown object>"
            ],
            "text/markdown": "L'onduleur utilisé est de marque **Huawei** et de série **Sun2000-4KTL-M1 (Haute intensité)**. Ses caractéristiques sont reprises dans la table ci-dessous : "
          },
          "metadata": {}
        },
        {
          "output_type": "display_data",
          "data": {
            "text/plain": [
              "<IPython.core.display.Markdown object>"
            ],
            "text/markdown": "| Caractéristique                     | Valeur              |\n|-------------------------------------|---------------------|\n| Puissance PV Max (W)                | 6000                 |\n| Tension d'entrée maximum (V)        | 1100                 |\n| Plage de tension de fonctionnement - Min (V) | 140                  |\n| Plage de tension de fonctionnement - Max (V) | 980                  |\n| Tension minimum de démarrage (V)    | 200                  |\n| Tension nominale de fonctionnement (V) | 600                  |\n| Courant maximum par MPPT au MPP(A)  | 13.5                 |\n| Courant maximum par MPPT en court-circuit(A) | 19.5                 |\n| Type de sortie AC                   | 3N400                |\n| Courant de sortie maximum (A)       | 6.8                  |\n| Rendement énergétique               | 0.975                |\n| Nombre de MPPT                      | 2                    |\n"
          },
          "metadata": {}
        },
        {
          "output_type": "display_data",
          "data": {
            "text/plain": [
              "<IPython.core.display.Markdown object>"
            ],
            "text/markdown": "## 3.2 Calculs"
          },
          "metadata": {}
        },
        {
          "output_type": "display_data",
          "data": {
            "text/plain": [
              "<IPython.core.display.Markdown object>"
            ],
            "text/markdown": "### 3.2.1 Compatibilité en tension"
          },
          "metadata": {}
        },
        {
          "output_type": "display_data",
          "data": {
            "text/plain": [
              "<IPython.core.display.Markdown object>"
            ],
            "text/markdown": "Les tensions dans les conditions de température au niveau de la cellule les plus défavorables pour l'onduleur sont considérées :"
          },
          "metadata": {}
        },
        {
          "output_type": "display_data",
          "data": {
            "text/plain": [
              "<IPython.core.display.Markdown object>"
            ],
            "text/markdown": "<ul>"
          },
          "metadata": {}
        },
        {
          "output_type": "display_data",
          "data": {
            "text/plain": [
              "<IPython.core.display.Markdown object>"
            ],
            "text/markdown": "<li> par temps froid (cellule PV à -10°C) - la tension augmente sur les cellules; la somme de ces tensions sur le string pourrait dépasser les tolérances de l'onduleur"
          },
          "metadata": {}
        },
        {
          "output_type": "display_data",
          "data": {
            "text/plain": [
              "<IPython.core.display.Markdown object>"
            ],
            "text/markdown": "<li> par temps chaud (cellule PV à 70°C) - la tension diminue sur les cellules et la limite basse de démarrage de l'onduleur pourrait ne pas être atteinte"
          },
          "metadata": {}
        },
        {
          "output_type": "display_data",
          "data": {
            "text/plain": [
              "<IPython.core.display.Markdown object>"
            ],
            "text/markdown": "</ul>"
          },
          "metadata": {}
        },
        {
          "output_type": "display_data",
          "data": {
            "text/plain": [
              "<IPython.core.display.Markdown object>"
            ],
            "text/markdown": "En effet, les tensions renseignées par la norme STC sont faites à température de cellule de 25°C."
          },
          "metadata": {}
        },
        {
          "output_type": "display_data",
          "data": {
            "text/plain": [
              "<IPython.core.display.Markdown object>"
            ],
            "text/markdown": "Le coefficient de variation de la tension à vide $V_{{oc}}$ appelé ci-après $C_t$ est utilisé dans les formules ci-dessous pour déterminer les tensions à vide au niveau de température de cellule souhaité: "
          },
          "metadata": {}
        },
        {
          "output_type": "display_data",
          "data": {
            "text/plain": [
              "<IPython.core.display.Markdown object>"
            ],
            "text/markdown": "$$V_{oc(temp)} = V_{oc} - (V_{oc}*C_t*(25-temp))$$"
          },
          "metadata": {}
        },
        {
          "output_type": "display_data",
          "data": {
            "text/plain": [
              "<IPython.core.display.Markdown object>"
            ],
            "text/markdown": "Par température de cellule de -10°C, le $V_{oc}$ devient : "
          },
          "metadata": {}
        },
        {
          "output_type": "display_data",
          "data": {
            "text/plain": [
              "<IPython.core.display.Markdown object>"
            ],
            "text/markdown": "$$V_{oc(-10)} = 42.18 - (42.18*-0.24*(25--10)) = 45.72\\ (V)$$"
          },
          "metadata": {}
        },
        {
          "output_type": "display_data",
          "data": {
            "text/plain": [
              "<IPython.core.display.Markdown object>"
            ],
            "text/markdown": "A cette température, le $V_{mpp}$ devient :  "
          },
          "metadata": {}
        },
        {
          "output_type": "display_data",
          "data": {
            "text/plain": [
              "<IPython.core.display.Markdown object>"
            ],
            "text/markdown": "$$V_{mpp(-10)} = 35.38 - (42.18*-0.24*(25--10)) = 38.92\\ (V)$$"
          },
          "metadata": {}
        },
        {
          "output_type": "display_data",
          "data": {
            "text/plain": [
              "<IPython.core.display.Markdown object>"
            ],
            "text/markdown": "Tandis que par température de cellule de 70°C, le $V_{oc}$ devient : "
          },
          "metadata": {}
        },
        {
          "output_type": "display_data",
          "data": {
            "text/plain": [
              "<IPython.core.display.Markdown object>"
            ],
            "text/markdown": "$$V_{oc(70)} = 42.18 - (42.18*-0.24*(25-70)) = 37.62\\ (V)$$"
          },
          "metadata": {}
        },
        {
          "output_type": "display_data",
          "data": {
            "text/plain": [
              "<IPython.core.display.Markdown object>"
            ],
            "text/markdown": "Grâce à ces valeurs, on peut déterminer le nombre maximum de panneau par string :"
          },
          "metadata": {}
        },
        {
          "output_type": "display_data",
          "data": {
            "text/plain": [
              "<IPython.core.display.Markdown object>"
            ],
            "text/markdown": "$$\\frac{DC_{max\\ onduleur\\ a\\ vide}}{V_{oc(-10)}} = \\frac{1100\\ (V)} {45.72\\ (V)} = 24.06 \\Rightarrow Max.\\ 24\\ Panneaux\\ par\\ string$$"
          },
          "metadata": {}
        },
        {
          "output_type": "display_data",
          "data": {
            "text/plain": [
              "<IPython.core.display.Markdown object>"
            ],
            "text/markdown": "**Attention** cependant car la tension max. admissible à vide de l'onduleur (1100 V) est supérieure à la tension admissible sur toiture résidentielle (750 V)."
          },
          "metadata": {}
        },
        {
          "output_type": "display_data",
          "data": {
            "text/plain": [
              "<IPython.core.display.Markdown object>"
            ],
            "text/markdown": "Le nombre de panneaux maximum à vide doit donc être revu sur base de cette tension : "
          },
          "metadata": {}
        },
        {
          "output_type": "display_data",
          "data": {
            "text/plain": [
              "<IPython.core.display.Markdown object>"
            ],
            "text/markdown": "$$\\frac{Tension\\ Max\\ sur\\ toiture}{V_{oc(-10)}} = \\frac{750\\ (V)} {45.72\\ (V)} = 16.4 \\Rightarrow Max.\\ 16\\ Panneaux\\ par\\ string$$"
          },
          "metadata": {}
        },
        {
          "output_type": "display_data",
          "data": {
            "text/plain": [
              "<IPython.core.display.Markdown object>"
            ],
            "text/markdown": "Pour garantir le démarrage de l'onduleur par temps chaud, le nombre minimum de panneaux est de :"
          },
          "metadata": {}
        },
        {
          "output_type": "display_data",
          "data": {
            "text/plain": [
              "<IPython.core.display.Markdown object>"
            ],
            "text/markdown": "$$\\frac{DC_{min\\ démarrage\\ onduleur}}{V_{oc(70)}} = \\frac{140\\ (V)} {37.62\\ (V)} = 3.72 \\Rightarrow Min.\\ 4\\ Panneaux\\ par\\ string$$"
          },
          "metadata": {}
        },
        {
          "output_type": "display_data",
          "data": {
            "text/plain": [
              "<IPython.core.display.Markdown object>"
            ],
            "text/markdown": "En fonctionnement par temps froid, le nombre de panneaux par string ne pourra pas dépasser :"
          },
          "metadata": {}
        },
        {
          "output_type": "display_data",
          "data": {
            "text/plain": [
              "<IPython.core.display.Markdown object>"
            ],
            "text/markdown": "$$\\frac{Tension\\ Max\\ sur\\ toiture}{V_{mpp(-10)}} = \\frac{750\\ (V)} {38.92\\ (V)} = 19.27 \\Rightarrow Max.\\ 19\\ Panneaux\\ par\\ string$$"
          },
          "metadata": {}
        },
        {
          "output_type": "display_data",
          "data": {
            "text/plain": [
              "<IPython.core.display.Markdown object>"
            ],
            "text/markdown": "#### Conclusions"
          },
          "metadata": {}
        },
        {
          "output_type": "display_data",
          "data": {
            "text/plain": [
              "<IPython.core.display.Markdown object>"
            ],
            "text/markdown": "| Description                          | Valeur |\n|--------------------------------------|--------|\n| Min. panneaux / string  | 4      |\n| Max. panneaux / string  | 16     |"
          },
          "metadata": {}
        },
        {
          "output_type": "display_data",
          "data": {
            "text/plain": [
              "<IPython.core.display.Markdown object>"
            ],
            "text/markdown": "La puissance DC maximum recommandée (sans optimiseur) est donnée par le fabricant à 6000 W.  Mettre 16 panneaux produirait 6960 W.  Idéalement il faudrait se limiter à 13 - 14 panneaux tous strings confondus."
          },
          "metadata": {}
        },
        {
          "output_type": "display_data",
          "data": {
            "text/plain": [
              "<IPython.core.display.Markdown object>"
            ],
            "text/markdown": "### 3.2.2 Compatibilité en courant"
          },
          "metadata": {}
        },
        {
          "output_type": "display_data",
          "data": {
            "text/plain": [
              "<IPython.core.display.Markdown object>"
            ],
            "text/markdown": "Les panneaux dans les strings étant tous raccordés en série, le courant maximum DC produit sera de "
          },
          "metadata": {}
        },
        {
          "output_type": "display_data",
          "data": {
            "text/plain": [
              "<IPython.core.display.Markdown object>"
            ],
            "text/markdown": "| Courant panneaux                        | Norme | Compatibilité | Résultat |\n|:-------------------------------------|--------|----|----|\n| $I_{sc}$  | STC | 13.1 A <= 19.5 A ?| OK|\n| $I_{mpp}$ | STC| 12.58 A <= 13.5 A ?| OK|\n| $$I_{sc}$$  | NOCT | 10.56 A <= 19.5 A ? | OK|\n| $$I_{mpp}$$ | NOCT| 10.14 A <= 13.5 A ?| OK|"
          },
          "metadata": {}
        },
        {
          "output_type": "display_data",
          "data": {
            "text/plain": [
              "<IPython.core.display.Markdown object>"
            ],
            "text/markdown": "### 3.3 Optimisation"
          },
          "metadata": {}
        },
        {
          "output_type": "display_data",
          "data": {
            "text/plain": [
              "<IPython.core.display.Markdown object>"
            ],
            "text/markdown": "L'onduleur fonctionnera de manière optimum avec une tension d'entrée de 600 V."
          },
          "metadata": {}
        },
        {
          "output_type": "display_data",
          "data": {
            "text/plain": [
              "<IPython.core.display.Markdown object>"
            ],
            "text/markdown": "Dans les conditions NOCT, l'onduleur fournira une tension $V_{mpp}$ de 33.34 V; le nombre optimum de panneaux par string est dès lors de :"
          },
          "metadata": {}
        },
        {
          "output_type": "display_data",
          "data": {
            "text/plain": [
              "<IPython.core.display.Markdown object>"
            ],
            "text/markdown": "$$Optimum = \\frac{600 (V)}{33.34 (V)} = 18.0\\ Panneaux$$"
          },
          "metadata": {}
        },
        {
          "output_type": "display_data",
          "data": {
            "text/plain": [
              "<IPython.core.display.Markdown object>"
            ],
            "text/markdown": "Ce nombre étant supérieur au nombre maximum de panneaux par string calculé précédemment, nous ne retiendrons pas cette valeur **(maximum 16 panneaux)**."
          },
          "metadata": {}
        },
        {
          "output_type": "display_data",
          "data": {
            "text/plain": [
              "<IPython.core.display.Markdown object>"
            ],
            "text/markdown": "# 4. Configuration retenue"
          },
          "metadata": {}
        },
        {
          "output_type": "display_data",
          "data": {
            "text/plain": [
              "<IPython.core.display.Markdown object>"
            ],
            "text/markdown": "Etant donné l'orientation des versants de toiture en EST-OUEST, une configuration de 7 panneaux sur chaque versant est retenue.  Les panneaux de chaque versant seront raccordés ensemble sur un string respectif ce qui est compatible avec l'onduleur (cfr. section précédente)"
          },
          "metadata": {}
        },
        {
          "output_type": "display_data",
          "data": {
            "text/plain": [
              "<IPython.core.display.Markdown object>"
            ],
            "text/markdown": "# 5. Production estimée"
          },
          "metadata": {}
        },
        {
          "output_type": "display_data",
          "data": {
            "text/plain": [
              "<IPython.core.display.Markdown object>"
            ],
            "text/markdown": "La production annuelle estimée avec une installation de 14 panneaux (6.09 Kwc.) est de **5024.25 Kwh** calculé comme suit :"
          },
          "metadata": {}
        },
        {
          "output_type": "display_data",
          "data": {
            "text/plain": [
              "<IPython.core.display.Markdown object>"
            ],
            "text/markdown": "Toiture 1 - Orientation Ouest:"
          },
          "metadata": {}
        },
        {
          "output_type": "display_data",
          "data": {
            "text/plain": [
              "<IPython.core.display.Markdown object>"
            ],
            "text/markdown": "$$ Production\\ annuelle = 7 * 0.435 (kW) * 1000 * F_c= 3045.0 * 0.82= 2496.9 (Kwh)$$"
          },
          "metadata": {}
        },
        {
          "output_type": "display_data",
          "data": {
            "text/plain": [
              "<IPython.core.display.Markdown object>"
            ],
            "text/markdown": "Toiture 2 - Orientation Est:"
          },
          "metadata": {}
        },
        {
          "output_type": "display_data",
          "data": {
            "text/plain": [
              "<IPython.core.display.Markdown object>"
            ],
            "text/markdown": "$$ Production\\ annuelle = 7 * 0.435 (kW) * 1000 * F_c= 3045.0 * 0.83= 2527.35 (Kwh)$$"
          },
          "metadata": {}
        },
        {
          "output_type": "display_data",
          "data": {
            "text/plain": [
              "<IPython.core.display.Markdown object>"
            ],
            "text/markdown": "# 6. Détermination des sections de cables"
          },
          "metadata": {}
        },
        {
          "output_type": "display_data",
          "data": {
            "text/plain": [
              "<IPython.core.display.Markdown object>"
            ],
            "text/markdown": "La section des cables est déterminée par la perte maximum de 2.0%  autorisée pour l'installation : "
          },
          "metadata": {}
        },
        {
          "output_type": "display_data",
          "data": {
            "text/plain": [
              "<IPython.core.display.Markdown object>"
            ],
            "text/markdown": "$$Perte\\ max = 14 * 435 * 2.0\\% = 121.8 W$$"
          },
          "metadata": {}
        },
        {
          "output_type": "display_data",
          "data": {
            "text/plain": [
              "<IPython.core.display.Markdown object>"
            ],
            "text/markdown": "Ces pertes maximum seront constitutées des pertes sur les lignes DC et sur les lignes AC.  La section adéquate de cable sur chaque ligne sera déterminée pour entrer dans la tolérance des 2.0% "
          },
          "metadata": {}
        },
        {
          "output_type": "display_data",
          "data": {
            "text/plain": [
              "<IPython.core.display.Markdown object>"
            ],
            "text/markdown": "Enfin spécifiquement pour la ligne AC, la chute de tension maximum de 1.0% devra être respectée."
          },
          "metadata": {}
        },
        {
          "output_type": "display_data",
          "data": {
            "text/plain": [
              "<IPython.core.display.Markdown object>"
            ],
            "text/markdown": "## 6.1 Ligne DC"
          },
          "metadata": {}
        },
        {
          "output_type": "display_data",
          "data": {
            "text/plain": [
              "<IPython.core.display.Markdown object>"
            ],
            "text/markdown": "La section des cables DC sera fonction des pertes de ligne DC calculées comme suit:"
          },
          "metadata": {}
        },
        {
          "output_type": "display_data",
          "data": {
            "text/plain": [
              "<IPython.core.display.Markdown object>"
            ],
            "text/markdown": "$$Pertes_{DC} = R*I^2 = \\frac{\\rho * l}{S} * I^2$$"
          },
          "metadata": {}
        },
        {
          "output_type": "display_data",
          "data": {
            "text/plain": [
              "<IPython.core.display.Markdown object>"
            ],
            "text/markdown": "Avec : "
          },
          "metadata": {}
        },
        {
          "output_type": "display_data",
          "data": {
            "text/plain": [
              "<IPython.core.display.Markdown object>"
            ],
            "text/markdown": "<ul>"
          },
          "metadata": {}
        },
        {
          "output_type": "display_data",
          "data": {
            "text/plain": [
              "<IPython.core.display.Markdown object>"
            ],
            "text/markdown": "<li><em>R</em> la résistance électrique totale"
          },
          "metadata": {}
        },
        {
          "output_type": "display_data",
          "data": {
            "text/plain": [
              "<IPython.core.display.Markdown object>"
            ],
            "text/markdown": "<li><em>I</em> l'intensité maximum traversant le cable soit le $I_{mpp}$ (12.58 A)"
          },
          "metadata": {}
        },
        {
          "output_type": "display_data",
          "data": {
            "text/plain": [
              "<IPython.core.display.Markdown object>"
            ],
            "text/markdown": "<li><em>S</em> la section du cable"
          },
          "metadata": {}
        },
        {
          "output_type": "display_data",
          "data": {
            "text/plain": [
              "<IPython.core.display.Markdown object>"
            ],
            "text/markdown": "<li><em>l</em> sa longueur"
          },
          "metadata": {}
        },
        {
          "output_type": "display_data",
          "data": {
            "text/plain": [
              "<IPython.core.display.Markdown object>"
            ],
            "text/markdown": "<li>$\\rho$ la résistivité du cable"
          },
          "metadata": {}
        },
        {
          "output_type": "display_data",
          "data": {
            "text/plain": [
              "<IPython.core.display.Markdown object>"
            ],
            "text/markdown": "Les fabricants de cable DC expriment la résistance électrique de leur matériel par m et par section; ce qui équivaudra au $\\rho/S$ : "
          },
          "metadata": {}
        },
        {
          "output_type": "display_data",
          "data": {
            "text/plain": [
              "<IPython.core.display.Markdown object>"
            ],
            "text/markdown": "<li><em>4 mm²</em> : 0.00509 Ohms/m"
          },
          "metadata": {}
        },
        {
          "output_type": "display_data",
          "data": {
            "text/plain": [
              "<IPython.core.display.Markdown object>"
            ],
            "text/markdown": "<li><em>6 mm²</em> : 0.00339 Ohms/m"
          },
          "metadata": {}
        },
        {
          "output_type": "display_data",
          "data": {
            "text/plain": [
              "<IPython.core.display.Markdown object>"
            ],
            "text/markdown": "</ul>"
          },
          "metadata": {}
        },
        {
          "output_type": "display_data",
          "data": {
            "text/plain": [
              "<IPython.core.display.Markdown object>"
            ],
            "text/markdown": "Afin de calculer la perte DC, il faut encore déterminer la longueur de cable DC; ce qui se fait en considérant : "
          },
          "metadata": {}
        },
        {
          "output_type": "display_data",
          "data": {
            "text/plain": [
              "<IPython.core.display.Markdown object>"
            ],
            "text/markdown": "<ul>"
          },
          "metadata": {}
        },
        {
          "output_type": "display_data",
          "data": {
            "text/plain": [
              "<IPython.core.display.Markdown object>"
            ],
            "text/markdown": "<li>La distance onduleur et le string de panneaux"
          },
          "metadata": {}
        },
        {
          "output_type": "display_data",
          "data": {
            "text/plain": [
              "<IPython.core.display.Markdown object>"
            ],
            "text/markdown": "<li>La longueur des brins de cables attachés à chaque panneau"
          },
          "metadata": {}
        },
        {
          "output_type": "display_data",
          "data": {
            "text/plain": [
              "<IPython.core.display.Markdown object>"
            ],
            "text/markdown": "<li>La distance entre le premier et dernier panneau du string considérés posés en ligne (format portrait)"
          },
          "metadata": {}
        },
        {
          "output_type": "display_data",
          "data": {
            "text/plain": [
              "<IPython.core.display.Markdown object>"
            ],
            "text/markdown": "</ul>"
          },
          "metadata": {}
        },
        {
          "output_type": "display_data",
          "data": {
            "text/plain": [
              "<IPython.core.display.Markdown object>"
            ],
            "text/markdown": "|String| Cable                       | Méthode | Longueur| Section|\n|------|:----------------------------|:--------|---------:|-------:|\n|[1] | Longueur onduleur - string| $$ 2*10 m $$ | 20 m | 4 mm² |\n|[1] | Cables de panneaux| $$ 7 * 1.2 m * 2 $$ | 16.8 m | 4 mm²|\n|[1] | Brin retour string| $$ (7 * 1.154 m)- 0.02 m $$ | 8.1 m | 4 mm²|\n|[2] | Longueur onduleur - string| $$ 2*10 m $$ | 20 m | 4 mm² |\n|[2] | Cables de panneaux| $$ 7 * 1.2 m * 2 $$ | 16.8 m | 4 mm²|\n|[2] | Brin retour string| $$ (7 * 1.154 m)- 0.02 m $$ | 8.1 m | 4 mm²|\n"
          },
          "metadata": {}
        },
        {
          "output_type": "display_data",
          "data": {
            "text/plain": [
              "<IPython.core.display.Markdown object>"
            ],
            "text/markdown": "La longueur totale en 4mm² de cable est donc de : 89.8m.  La perte totale des cables DC de section 4mm² est alors de : "
          },
          "metadata": {}
        },
        {
          "output_type": "display_data",
          "data": {
            "text/plain": [
              "<IPython.core.display.Markdown object>"
            ],
            "text/markdown": "$$Pertes_{DC} = 0.00509 Ohms/m * 89.8 m * 12.58 A^2 = 72.3 W$$"
          },
          "metadata": {}
        },
        {
          "output_type": "display_data",
          "data": {
            "text/plain": [
              "<IPython.core.display.Markdown object>"
            ],
            "text/markdown": "**La section de cable retenue pour les cables DC est : 4mm²**"
          },
          "metadata": {}
        },
        {
          "output_type": "display_data",
          "data": {
            "text/plain": [
              "<IPython.core.display.Markdown object>"
            ],
            "text/markdown": "## 6.2 Ligne AC"
          },
          "metadata": {}
        },
        {
          "output_type": "display_data",
          "data": {
            "text/plain": [
              "<IPython.core.display.Markdown object>"
            ],
            "text/markdown": "### 6.2.1 Pertes de ligne"
          },
          "metadata": {}
        },
        {
          "output_type": "display_data",
          "data": {
            "text/plain": [
              "<IPython.core.display.Markdown object>"
            ],
            "text/markdown": "Les pertes AC maximum sont déterminées par la différence entre les pertes totales système et les pertes DC"
          },
          "metadata": {}
        },
        {
          "output_type": "display_data",
          "data": {
            "text/plain": [
              "<IPython.core.display.Markdown object>"
            ],
            "text/markdown": "\n\n$$Pertes_{AC\\ Max} = Perte_{Système\\ Max} - Perte_{DC\\ MAX} = 121.8 W - 72.3 W = 49.5 W$$\n\nLa résistance maximale pour cette perte est obtenue par la formule suivante:\n\n$$Pertes_{AC\\ Max} = 3*R_{Max\\ cable\\ AC}*I_{AC\\ Max}^2 \\Rightarrow R_{Max\\ cable\\ AC} = \\frac{Pertes_{AC\\ Max}}{3*I_{AC\\ Max}^2} = \\frac{49.5}{3*6.8^2} = 0.357 \\Omega$$\n\nLa section minimale du cable AC est alors obtenue par la loi de Pouillet (avec une résistivité pour le cable de cuivre établie à 0.0169 $ \\frac{\\Omega*mm^2}{m}$ : \n\n$$S_{min} = \\frac{0.0169 * l_{cable\\ ac}}{ R_{Max\\ cable\\ AC}} = \\frac{0.0169 * 5}{0.357} = 0.24 mm^2 $$\n\n**La section minimum du cable AC a utiliser pour limiter les pertes de ligne est donc de 1.5mm²**"
          },
          "metadata": {}
        },
        {
          "output_type": "display_data",
          "data": {
            "text/plain": [
              "<IPython.core.display.Markdown object>"
            ],
            "text/markdown": "### 6.2.2 Chute de tension "
          },
          "metadata": {}
        },
        {
          "output_type": "display_data",
          "data": {
            "text/plain": [
              "<IPython.core.display.Markdown object>"
            ],
            "text/markdown": "La chute de tension maximum se calcule comme suit (en négligeant l'impédance de ligne (section < 50mm²) selon le réseau (3N400):)\n\n$$Reseau\\ Tri\\ 3N400 \\Rightarrow U_{max} = \\sqrt(3)*R*I_{AC\\ Max} = 1.0\\% * 400 V = 4.0 V$$\n\nOn recherche alors la résistance la résistance maximum du cable pour respecter cette chute de tension maximum :\n\n$$R_{max}=\\frac{ U_{max} }{I_{AC\\ Max}} = \\frac{4.0 V}{\\sqrt(3)*6.8 A} = 0.3396 \\Omega$$\n\nSur base de cela il ne reste qu'à calculer la section de fil avec la loi de Pouillet : \n\n$$S_{min}=\\frac{\\rho * l_{3\\ fils}}{R_{max}}=\\frac{0.0169*(3*5) m}{0.3396 \\Omega} = 0.75 mm²$$\n\n**La section minimum du cable AC a utiliser pour limiter les pertes de ligne est donc de 1.5mm²**"
          },
          "metadata": {}
        },
        {
          "output_type": "display_data",
          "data": {
            "text/plain": [
              "<IPython.core.display.Markdown object>"
            ],
            "text/markdown": "### 6.2.3 Sélection de la section de ligne AC"
          },
          "metadata": {}
        },
        {
          "output_type": "display_data",
          "data": {
            "text/plain": [
              "<IPython.core.display.Markdown object>"
            ],
            "text/markdown": "Considérant les pertes de ligne AC et la chute de tension calculées, la section de cable AC retenue est de **1.5 mm²**"
          },
          "metadata": {}
        },
        {
          "output_type": "display_data",
          "data": {
            "text/plain": [
              "<IPython.core.display.Markdown object>"
            ],
            "text/markdown": "# 7. Rendement"
          },
          "metadata": {}
        },
        {
          "output_type": "display_data",
          "data": {
            "text/plain": [
              "<IPython.core.display.Markdown object>"
            ],
            "text/markdown": "## 7.1 Rendement des cables"
          },
          "metadata": {}
        },
        {
          "output_type": "display_data",
          "data": {
            "text/plain": [
              "<IPython.core.display.Markdown object>"
            ],
            "text/markdown": "Sur base des sections de cables retenues, on peut recalculer les pertes AC et DC :"
          },
          "metadata": {}
        },
        {
          "output_type": "display_data",
          "data": {
            "text/plain": [
              "<IPython.core.display.Markdown object>"
            ],
            "text/markdown": "<ul>"
          },
          "metadata": {}
        },
        {
          "output_type": "display_data",
          "data": {
            "text/plain": [
              "<IPython.core.display.Markdown object>"
            ],
            "text/markdown": "<li>Pertes DC : 72.3 W"
          },
          "metadata": {}
        },
        {
          "output_type": "display_data",
          "data": {
            "text/plain": [
              "<IPython.core.display.Markdown object>"
            ],
            "text/markdown": "<li>Pertes AC : 7.8 W"
          },
          "metadata": {}
        },
        {
          "output_type": "display_data",
          "data": {
            "text/plain": [
              "<IPython.core.display.Markdown object>"
            ],
            "text/markdown": "</ul>"
          },
          "metadata": {}
        },
        {
          "output_type": "display_data",
          "data": {
            "text/plain": [
              "<IPython.core.display.Markdown object>"
            ],
            "text/markdown": "Les pertes totales s'élèvent alors à **80.1 W** ce qui est bien inférieur à la perte maximale autorisée de 121.8 W "
          },
          "metadata": {}
        },
        {
          "output_type": "display_data",
          "data": {
            "text/plain": [
              "<IPython.core.display.Markdown object>"
            ],
            "text/markdown": "Le rendement des cables peut se déterminer sur base de ces pertes et la puissance maximale de l'installation de panneaux (6090 W) :"
          },
          "metadata": {}
        },
        {
          "output_type": "display_data",
          "data": {
            "text/plain": [
              "<IPython.core.display.Markdown object>"
            ],
            "text/markdown": "$$\\eta_{cables} = 1 - \\frac{Pertes_{cables}}{P_{installation}} = 98.68 \\%$$"
          },
          "metadata": {}
        },
        {
          "output_type": "display_data",
          "data": {
            "text/plain": [
              "<IPython.core.display.Markdown object>"
            ],
            "text/markdown": "# 7.2 Rendement total"
          },
          "metadata": {}
        },
        {
          "output_type": "display_data",
          "data": {
            "text/plain": [
              "<IPython.core.display.Markdown object>"
            ],
            "text/markdown": "Le rendement total de l'installation s'obtient en combinant le rendement de chacun des composants : "
          },
          "metadata": {}
        },
        {
          "output_type": "display_data",
          "data": {
            "text/plain": [
              "<IPython.core.display.Markdown object>"
            ],
            "text/markdown": "<ul>"
          },
          "metadata": {}
        },
        {
          "output_type": "display_data",
          "data": {
            "text/plain": [
              "<IPython.core.display.Markdown object>"
            ],
            "text/markdown": "<li>Rendement des modules $\\eta_{modules}$: 22.79% (datasheet panneaux)"
          },
          "metadata": {}
        },
        {
          "output_type": "display_data",
          "data": {
            "text/plain": [
              "<IPython.core.display.Markdown object>"
            ],
            "text/markdown": "<li>Rendement onduleur $\\eta_{onduleur}$: 97.5% (datasheet onduleur)"
          },
          "metadata": {}
        },
        {
          "output_type": "display_data",
          "data": {
            "text/plain": [
              "<IPython.core.display.Markdown object>"
            ],
            "text/markdown": "<li>Rendement des cables $\\eta_{cables}$: 98.68% (calculé)"
          },
          "metadata": {}
        },
        {
          "output_type": "display_data",
          "data": {
            "text/plain": [
              "<IPython.core.display.Markdown object>"
            ],
            "text/markdown": "<li>Rendement fiches MC4 $\\eta_{fiches}$: 98.0% (estimé)"
          },
          "metadata": {}
        },
        {
          "output_type": "display_data",
          "data": {
            "text/plain": [
              "<IPython.core.display.Markdown object>"
            ],
            "text/markdown": "<li>Rendement compteur vert $\\eta_{compteur}$: 98.0% (estimé)"
          },
          "metadata": {}
        },
        {
          "output_type": "display_data",
          "data": {
            "text/plain": [
              "<IPython.core.display.Markdown object>"
            ],
            "text/markdown": "<li>Rendement installation électrique $\\eta_{installation\\ elec}$: 98.0% (estimé)"
          },
          "metadata": {}
        },
        {
          "output_type": "display_data",
          "data": {
            "text/plain": [
              "<IPython.core.display.Markdown object>"
            ],
            "text/markdown": "</ul>"
          },
          "metadata": {}
        },
        {
          "output_type": "display_data",
          "data": {
            "text/plain": [
              "<IPython.core.display.Markdown object>"
            ],
            "text/markdown": "De la manière suivante : "
          },
          "metadata": {}
        },
        {
          "output_type": "display_data",
          "data": {
            "text/plain": [
              "<IPython.core.display.Markdown object>"
            ],
            "text/markdown": "$$\\eta_{total} = \\eta_{modules} * \\eta_{onduleur} * \\eta_{cables} * \\eta_{fiches} * \\eta_{compteur} * \\eta_{installation\\ elec} = 20.64 \\%$$"
          },
          "metadata": {}
        },
        {
          "output_type": "display_data",
          "data": {
            "text/plain": [
              "<IPython.core.display.Markdown object>"
            ],
            "text/markdown": "En d'autres termes, considérant une irradiance de 1000W/m², les panneaux récupéreront 227.9 W et le système permettra de réinjecter la puissance de 206.4W."
          },
          "metadata": {}
        },
        {
          "output_type": "display_data",
          "data": {
            "text/plain": [
              "<IPython.core.display.Markdown object>"
            ],
            "text/markdown": "Cela représente donc une perte de 10.0 \\%."
          },
          "metadata": {}
        }
      ]
    }
  ]
}